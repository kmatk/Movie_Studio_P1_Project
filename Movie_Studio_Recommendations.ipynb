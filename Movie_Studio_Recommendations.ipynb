{
 "cells": [
  {
   "cell_type": "markdown",
   "metadata": {},
   "source": [
    "# Microsoft Movie Studios Recommendations"
   ]
  },
  {
   "cell_type": "markdown",
   "metadata": {},
   "source": [
    "![Microsoft Movie Studios](./Logo.png)"
   ]
  },
  {
   "cell_type": "markdown",
   "metadata": {},
   "source": [
    "<h2>Overview"
   ]
  },
  {
   "cell_type": "markdown",
   "metadata": {},
   "source": [
    "In this project we will help guide the executives at the newly founded Microsoft Movie Studios. We will analyze the <a href=\"www.imdb.com\">IMDb</a>, <a href=\"https://www.rottentomatoes.com/\">Rotten Tomatoes</a>, and <a href=\"https://www.boxofficemojo.com/\">Box Office Mojo</a> datasets. We can use this information to make suggestions regarding the next steps regarding the creation of our first films, as well as potential acquisition decisions."
   ]
  },
  {
   "cell_type": "markdown",
   "metadata": {},
   "source": [
    "The first project our studio publishes will have major ramifications for our reputation both within the industry and without.\n",
    "It's important for our future success to ensure our debut makes a major splash. "
   ]
  },
  {
   "cell_type": "markdown",
   "metadata": {},
   "source": [
    "<h2> Data Preparation"
   ]
  },
  {
   "cell_type": "markdown",
   "metadata": {},
   "source": [
    "IMDb is the internet's movie largest database. We're interested in their data on Film Ratings, Films, and the Actors, Directors, Writers, and Producers involved in their creation."
   ]
  },
  {
   "cell_type": "code",
   "execution_count": 1,
   "metadata": {},
   "outputs": [],
   "source": [
    "# Import necessary libraries\n",
    "import pandas as pd\n",
    "import numpy as np\n",
    "import sqlite3\n",
    "from matplotlib import pyplot as plt\n",
    "from matplotlib.ticker import StrMethodFormatter\n",
    "%matplotlib inline\n",
    "# Create connection and cursor objects to execute our SQLite queries\n",
    "conn = sqlite3.connect(\"data/im.db\")\n",
    "cursor = conn.cursor()"
   ]
  },
  {
   "cell_type": "code",
   "execution_count": 2,
   "metadata": {},
   "outputs": [],
   "source": [
    "q = \"SELECT name FROM sqlite_master WHERE type='table';\"\n",
    "cursor.execute(q)\n",
    "tables = cursor.fetchall()\n",
    "table_names = [table[0] for table in tables]"
   ]
  },
  {
   "cell_type": "code",
   "execution_count": 3,
   "metadata": {},
   "outputs": [],
   "source": [
    "# We now code loops through the table_names variable, and creates a variable with that name whose \n",
    "# value is the DataFrame associated with that table. It then appends these DataFrames to the list db\n",
    "db = []\n",
    "for t in table_names:\n",
    "    vars().__setitem__(t, pd.read_sql(f\"\"\"\n",
    "        SELECT *\n",
    "        FROM {t}\n",
    "        \"\"\", conn))\n",
    "    db.append(vars()[t])"
   ]
  },
  {
   "cell_type": "markdown",
   "metadata": {},
   "source": [
    "Let's first get an idea of the size, shape, columns, and datatypes within this database in order to inform further analysis"
   ]
  },
  {
   "cell_type": "code",
   "execution_count": 4,
   "metadata": {
    "scrolled": false
   },
   "outputs": [
    {
     "name": "stdout",
     "output_type": "stream",
     "text": [
      "movie_basics:\n",
      "<class 'pandas.core.frame.DataFrame'>\n",
      "RangeIndex: 146144 entries, 0 to 146143\n",
      "Data columns (total 6 columns):\n",
      " #   Column           Non-Null Count   Dtype  \n",
      "---  ------           --------------   -----  \n",
      " 0   movie_id         146144 non-null  object \n",
      " 1   primary_title    146144 non-null  object \n",
      " 2   original_title   146123 non-null  object \n",
      " 3   start_year       146144 non-null  int64  \n",
      " 4   runtime_minutes  114405 non-null  float64\n",
      " 5   genres           140736 non-null  object \n",
      "dtypes: float64(1), int64(1), object(4)\n",
      "memory usage: 6.7+ MB\n",
      "None\n",
      "\n",
      "directors:\n",
      "<class 'pandas.core.frame.DataFrame'>\n",
      "RangeIndex: 291174 entries, 0 to 291173\n",
      "Data columns (total 2 columns):\n",
      " #   Column     Non-Null Count   Dtype \n",
      "---  ------     --------------   ----- \n",
      " 0   movie_id   291174 non-null  object\n",
      " 1   person_id  291174 non-null  object\n",
      "dtypes: object(2)\n",
      "memory usage: 4.4+ MB\n",
      "None\n",
      "\n",
      "known_for:\n",
      "<class 'pandas.core.frame.DataFrame'>\n",
      "RangeIndex: 1638260 entries, 0 to 1638259\n",
      "Data columns (total 2 columns):\n",
      " #   Column     Non-Null Count    Dtype \n",
      "---  ------     --------------    ----- \n",
      " 0   person_id  1638260 non-null  object\n",
      " 1   movie_id   1638260 non-null  object\n",
      "dtypes: object(2)\n",
      "memory usage: 25.0+ MB\n",
      "None\n",
      "\n",
      "movie_akas:\n",
      "<class 'pandas.core.frame.DataFrame'>\n",
      "RangeIndex: 331703 entries, 0 to 331702\n",
      "Data columns (total 8 columns):\n",
      " #   Column             Non-Null Count   Dtype  \n",
      "---  ------             --------------   -----  \n",
      " 0   movie_id           331703 non-null  object \n",
      " 1   ordering           331703 non-null  int64  \n",
      " 2   title              331703 non-null  object \n",
      " 3   region             278410 non-null  object \n",
      " 4   language           41715 non-null   object \n",
      " 5   types              168447 non-null  object \n",
      " 6   attributes         14925 non-null   object \n",
      " 7   is_original_title  331678 non-null  float64\n",
      "dtypes: float64(1), int64(1), object(6)\n",
      "memory usage: 20.2+ MB\n",
      "None\n",
      "\n",
      "movie_ratings:\n",
      "<class 'pandas.core.frame.DataFrame'>\n",
      "RangeIndex: 73856 entries, 0 to 73855\n",
      "Data columns (total 3 columns):\n",
      " #   Column         Non-Null Count  Dtype  \n",
      "---  ------         --------------  -----  \n",
      " 0   movie_id       73856 non-null  object \n",
      " 1   averagerating  73856 non-null  float64\n",
      " 2   numvotes       73856 non-null  int64  \n",
      "dtypes: float64(1), int64(1), object(1)\n",
      "memory usage: 1.7+ MB\n",
      "None\n",
      "\n",
      "persons:\n",
      "<class 'pandas.core.frame.DataFrame'>\n",
      "RangeIndex: 606648 entries, 0 to 606647\n",
      "Data columns (total 5 columns):\n",
      " #   Column              Non-Null Count   Dtype  \n",
      "---  ------              --------------   -----  \n",
      " 0   person_id           606648 non-null  object \n",
      " 1   primary_name        606648 non-null  object \n",
      " 2   birth_year          82736 non-null   float64\n",
      " 3   death_year          6783 non-null    float64\n",
      " 4   primary_profession  555308 non-null  object \n",
      "dtypes: float64(2), object(3)\n",
      "memory usage: 23.1+ MB\n",
      "None\n",
      "\n",
      "principals:\n",
      "<class 'pandas.core.frame.DataFrame'>\n",
      "RangeIndex: 1028186 entries, 0 to 1028185\n",
      "Data columns (total 6 columns):\n",
      " #   Column      Non-Null Count    Dtype \n",
      "---  ------      --------------    ----- \n",
      " 0   movie_id    1028186 non-null  object\n",
      " 1   ordering    1028186 non-null  int64 \n",
      " 2   person_id   1028186 non-null  object\n",
      " 3   category    1028186 non-null  object\n",
      " 4   job         177684 non-null   object\n",
      " 5   characters  393360 non-null   object\n",
      "dtypes: int64(1), object(5)\n",
      "memory usage: 47.1+ MB\n",
      "None\n",
      "\n",
      "writers:\n",
      "<class 'pandas.core.frame.DataFrame'>\n",
      "RangeIndex: 255873 entries, 0 to 255872\n",
      "Data columns (total 2 columns):\n",
      " #   Column     Non-Null Count   Dtype \n",
      "---  ------     --------------   ----- \n",
      " 0   movie_id   255873 non-null  object\n",
      " 1   person_id  255873 non-null  object\n",
      "dtypes: object(2)\n",
      "memory usage: 3.9+ MB\n",
      "None\n",
      "\n"
     ]
    }
   ],
   "source": [
    "for x in range(len(db)):\n",
    "    print(f\"{table_names[x]}:\")\n",
    "    print(db[x].info())\n",
    "    print()"
   ]
  },
  {
   "cell_type": "markdown",
   "metadata": {},
   "source": [
    "It's clear that much of this data will be unhelpful in our analysis, and that much if it is redundant. For example, directors, writers, and known_for tables contain information that is duplicated in the principals table.\n",
    "\n",
    "\n",
    "\n",
    "For this reason, we'll be focusing on combining `primary_name`s from the `persons` table with their `category` and `movie_id` from the `principals` table.\n"
   ]
  },
  {
   "cell_type": "markdown",
   "metadata": {},
   "source": [
    "Let's look a little closer at the movie_akas table.\n",
    "\n",
    "As a new studio, it's  important for us to garner a positive reputation by creating our own original films. Therefore, we can eliminate analysis on data involving non-original films."
   ]
  },
  {
   "cell_type": "code",
   "execution_count": 5,
   "metadata": {},
   "outputs": [
    {
     "name": "stdout",
     "output_type": "stream",
     "text": [
      "<class 'pandas.core.frame.DataFrame'>\n",
      "Int64Index: 44700 entries, 38 to 331700\n",
      "Data columns (total 8 columns):\n",
      " #   Column             Non-Null Count  Dtype  \n",
      "---  ------             --------------  -----  \n",
      " 0   movie_id           44700 non-null  object \n",
      " 1   ordering           44700 non-null  int64  \n",
      " 2   title              44700 non-null  object \n",
      " 3   region             6 non-null      object \n",
      " 4   language           4 non-null      object \n",
      " 5   types              44700 non-null  object \n",
      " 6   attributes         0 non-null      object \n",
      " 7   is_original_title  44700 non-null  float64\n",
      "dtypes: float64(1), int64(1), object(6)\n",
      "memory usage: 3.1+ MB\n"
     ]
    }
   ],
   "source": [
    "movie_akas_originals = movie_akas.loc[movie_akas['is_original_title'] == 1.0]\n",
    "movie_akas_originals.info()"
   ]
  },
  {
   "cell_type": "markdown",
   "metadata": {},
   "source": [
    "We see that nearly all the data within the `region`, `language`, and `attributes` columns are null. The `ordering`, `types`, and `is_original_title` columns are all redundant now as well. We drop these columns and name the resulting table `originals`"
   ]
  },
  {
   "cell_type": "code",
   "execution_count": 6,
   "metadata": {},
   "outputs": [],
   "source": [
    "originals = movie_akas_originals.drop(labels=['region', 'language', 'attributes', 'is_original_title', 'types', 'ordering'], axis=1)"
   ]
  },
  {
   "cell_type": "markdown",
   "metadata": {},
   "source": [
    "Now that we have the original movies, let's join them with the `movie_basics` and `movie_ratings` tables, in order to have the `title`, `start_year`, `runtime_minutes`, and `genres` columns from `movie_basics`, and `averagerating` and `numvotes` columns from `movie_ratings`."
   ]
  },
  {
   "cell_type": "code",
   "execution_count": 7,
   "metadata": {},
   "outputs": [],
   "source": [
    "originals = originals.set_index('movie_id')\n",
    "movie_basics = movie_basics.set_index('movie_id')\n",
    "movie_ratings = movie_ratings.set_index('movie_id')"
   ]
  },
  {
   "cell_type": "code",
   "execution_count": 8,
   "metadata": {
    "scrolled": true
   },
   "outputs": [],
   "source": [
    "originals = originals.join(movie_basics, how='inner', rsuffix='_mb')\n",
    "originals = originals.join(movie_ratings, how='inner', rsuffix='_mb')\n",
    "originals.drop(labels=['primary_title', 'original_title'], axis=1, inplace=True)\n",
    "originals = originals.reset_index()"
   ]
  },
  {
   "cell_type": "code",
   "execution_count": 9,
   "metadata": {},
   "outputs": [
    {
     "data": {
      "text/html": [
       "<div>\n",
       "<style scoped>\n",
       "    .dataframe tbody tr th:only-of-type {\n",
       "        vertical-align: middle;\n",
       "    }\n",
       "\n",
       "    .dataframe tbody tr th {\n",
       "        vertical-align: top;\n",
       "    }\n",
       "\n",
       "    .dataframe thead th {\n",
       "        text-align: right;\n",
       "    }\n",
       "</style>\n",
       "<table border=\"1\" class=\"dataframe\">\n",
       "  <thead>\n",
       "    <tr style=\"text-align: right;\">\n",
       "      <th></th>\n",
       "      <th>movie_id</th>\n",
       "      <th>title</th>\n",
       "      <th>start_year</th>\n",
       "      <th>runtime_minutes</th>\n",
       "      <th>genres</th>\n",
       "      <th>averagerating</th>\n",
       "      <th>numvotes</th>\n",
       "    </tr>\n",
       "  </thead>\n",
       "  <tbody>\n",
       "    <tr>\n",
       "      <th>0</th>\n",
       "      <td>tt0063540</td>\n",
       "      <td>Sunghursh</td>\n",
       "      <td>2013</td>\n",
       "      <td>175.0</td>\n",
       "      <td>Action,Crime,Drama</td>\n",
       "      <td>7.0</td>\n",
       "      <td>77</td>\n",
       "    </tr>\n",
       "    <tr>\n",
       "      <th>1</th>\n",
       "      <td>tt0066787</td>\n",
       "      <td>Ashad Ka Ek Din</td>\n",
       "      <td>2019</td>\n",
       "      <td>114.0</td>\n",
       "      <td>Biography,Drama</td>\n",
       "      <td>7.2</td>\n",
       "      <td>43</td>\n",
       "    </tr>\n",
       "    <tr>\n",
       "      <th>2</th>\n",
       "      <td>tt0069049</td>\n",
       "      <td>The Other Side of the Wind</td>\n",
       "      <td>2018</td>\n",
       "      <td>122.0</td>\n",
       "      <td>Drama</td>\n",
       "      <td>6.9</td>\n",
       "      <td>4517</td>\n",
       "    </tr>\n",
       "    <tr>\n",
       "      <th>3</th>\n",
       "      <td>tt0069204</td>\n",
       "      <td>Sabse Bada Sukh</td>\n",
       "      <td>2018</td>\n",
       "      <td>NaN</td>\n",
       "      <td>Comedy,Drama</td>\n",
       "      <td>6.1</td>\n",
       "      <td>13</td>\n",
       "    </tr>\n",
       "    <tr>\n",
       "      <th>4</th>\n",
       "      <td>tt0100275</td>\n",
       "      <td>La Telenovela Errante</td>\n",
       "      <td>2017</td>\n",
       "      <td>80.0</td>\n",
       "      <td>Comedy,Drama,Fantasy</td>\n",
       "      <td>6.5</td>\n",
       "      <td>119</td>\n",
       "    </tr>\n",
       "  </tbody>\n",
       "</table>\n",
       "</div>"
      ],
      "text/plain": [
       "    movie_id                       title  start_year  runtime_minutes  \\\n",
       "0  tt0063540                   Sunghursh        2013            175.0   \n",
       "1  tt0066787             Ashad Ka Ek Din        2019            114.0   \n",
       "2  tt0069049  The Other Side of the Wind        2018            122.0   \n",
       "3  tt0069204             Sabse Bada Sukh        2018              NaN   \n",
       "4  tt0100275       La Telenovela Errante        2017             80.0   \n",
       "\n",
       "                 genres  averagerating  numvotes  \n",
       "0    Action,Crime,Drama            7.0        77  \n",
       "1       Biography,Drama            7.2        43  \n",
       "2                 Drama            6.9      4517  \n",
       "3          Comedy,Drama            6.1        13  \n",
       "4  Comedy,Drama,Fantasy            6.5       119  "
      ]
     },
     "execution_count": 9,
     "metadata": {},
     "output_type": "execute_result"
    }
   ],
   "source": [
    "originals.head()"
   ]
  },
  {
   "cell_type": "markdown",
   "metadata": {},
   "source": [
    "Let's filter this table for a minimum of 500k `numvotes`, and sort by `averagerating`, as a sanity check."
   ]
  },
  {
   "cell_type": "code",
   "execution_count": 10,
   "metadata": {},
   "outputs": [
    {
     "data": {
      "text/html": [
       "<div>\n",
       "<style scoped>\n",
       "    .dataframe tbody tr th:only-of-type {\n",
       "        vertical-align: middle;\n",
       "    }\n",
       "\n",
       "    .dataframe tbody tr th {\n",
       "        vertical-align: top;\n",
       "    }\n",
       "\n",
       "    .dataframe thead th {\n",
       "        text-align: right;\n",
       "    }\n",
       "</style>\n",
       "<table border=\"1\" class=\"dataframe\">\n",
       "  <thead>\n",
       "    <tr style=\"text-align: right;\">\n",
       "      <th></th>\n",
       "      <th>movie_id</th>\n",
       "      <th>title</th>\n",
       "      <th>start_year</th>\n",
       "      <th>runtime_minutes</th>\n",
       "      <th>genres</th>\n",
       "      <th>averagerating</th>\n",
       "      <th>numvotes</th>\n",
       "    </tr>\n",
       "  </thead>\n",
       "  <tbody>\n",
       "    <tr>\n",
       "      <th>1556</th>\n",
       "      <td>tt1375666</td>\n",
       "      <td>Inception</td>\n",
       "      <td>2010</td>\n",
       "      <td>148.0</td>\n",
       "      <td>Action,Adventure,Sci-Fi</td>\n",
       "      <td>8.8</td>\n",
       "      <td>1841066</td>\n",
       "    </tr>\n",
       "    <tr>\n",
       "      <th>206</th>\n",
       "      <td>tt0816692</td>\n",
       "      <td>Interstellar</td>\n",
       "      <td>2014</td>\n",
       "      <td>169.0</td>\n",
       "      <td>Adventure,Drama,Sci-Fi</td>\n",
       "      <td>8.6</td>\n",
       "      <td>1299334</td>\n",
       "    </tr>\n",
       "    <tr>\n",
       "      <th>22558</th>\n",
       "      <td>tt4154756</td>\n",
       "      <td>Avengers: Infinity War</td>\n",
       "      <td>2018</td>\n",
       "      <td>149.0</td>\n",
       "      <td>Action,Adventure,Sci-Fi</td>\n",
       "      <td>8.5</td>\n",
       "      <td>670926</td>\n",
       "    </tr>\n",
       "    <tr>\n",
       "      <th>4404</th>\n",
       "      <td>tt1675434</td>\n",
       "      <td>Intouchables</td>\n",
       "      <td>2011</td>\n",
       "      <td>112.0</td>\n",
       "      <td>Biography,Comedy,Drama</td>\n",
       "      <td>8.5</td>\n",
       "      <td>677343</td>\n",
       "    </tr>\n",
       "    <tr>\n",
       "      <th>14124</th>\n",
       "      <td>tt2582802</td>\n",
       "      <td>Whiplash</td>\n",
       "      <td>2014</td>\n",
       "      <td>106.0</td>\n",
       "      <td>Drama,Music</td>\n",
       "      <td>8.5</td>\n",
       "      <td>616916</td>\n",
       "    </tr>\n",
       "  </tbody>\n",
       "</table>\n",
       "</div>"
      ],
      "text/plain": [
       "        movie_id                   title  start_year  runtime_minutes  \\\n",
       "1556   tt1375666               Inception        2010            148.0   \n",
       "206    tt0816692            Interstellar        2014            169.0   \n",
       "22558  tt4154756  Avengers: Infinity War        2018            149.0   \n",
       "4404   tt1675434            Intouchables        2011            112.0   \n",
       "14124  tt2582802                Whiplash        2014            106.0   \n",
       "\n",
       "                        genres  averagerating  numvotes  \n",
       "1556   Action,Adventure,Sci-Fi            8.8   1841066  \n",
       "206     Adventure,Drama,Sci-Fi            8.6   1299334  \n",
       "22558  Action,Adventure,Sci-Fi            8.5    670926  \n",
       "4404    Biography,Comedy,Drama            8.5    677343  \n",
       "14124              Drama,Music            8.5    616916  "
      ]
     },
     "execution_count": 10,
     "metadata": {},
     "output_type": "execute_result"
    }
   ],
   "source": [
    "originals.loc[(originals['numvotes'] >= 500000)].sort_values('averagerating', ascending=False).head()"
   ]
  },
  {
   "cell_type": "markdown",
   "metadata": {},
   "source": [
    "Now let's look at the principals table"
   ]
  },
  {
   "cell_type": "code",
   "execution_count": 11,
   "metadata": {},
   "outputs": [
    {
     "data": {
      "text/html": [
       "<div>\n",
       "<style scoped>\n",
       "    .dataframe tbody tr th:only-of-type {\n",
       "        vertical-align: middle;\n",
       "    }\n",
       "\n",
       "    .dataframe tbody tr th {\n",
       "        vertical-align: top;\n",
       "    }\n",
       "\n",
       "    .dataframe thead th {\n",
       "        text-align: right;\n",
       "    }\n",
       "</style>\n",
       "<table border=\"1\" class=\"dataframe\">\n",
       "  <thead>\n",
       "    <tr style=\"text-align: right;\">\n",
       "      <th></th>\n",
       "      <th>movie_id</th>\n",
       "      <th>ordering</th>\n",
       "      <th>person_id</th>\n",
       "      <th>category</th>\n",
       "      <th>job</th>\n",
       "      <th>characters</th>\n",
       "    </tr>\n",
       "  </thead>\n",
       "  <tbody>\n",
       "    <tr>\n",
       "      <th>0</th>\n",
       "      <td>tt0111414</td>\n",
       "      <td>1</td>\n",
       "      <td>nm0246005</td>\n",
       "      <td>actor</td>\n",
       "      <td>None</td>\n",
       "      <td>[\"The Man\"]</td>\n",
       "    </tr>\n",
       "    <tr>\n",
       "      <th>1</th>\n",
       "      <td>tt0111414</td>\n",
       "      <td>2</td>\n",
       "      <td>nm0398271</td>\n",
       "      <td>director</td>\n",
       "      <td>None</td>\n",
       "      <td>None</td>\n",
       "    </tr>\n",
       "    <tr>\n",
       "      <th>2</th>\n",
       "      <td>tt0111414</td>\n",
       "      <td>3</td>\n",
       "      <td>nm3739909</td>\n",
       "      <td>producer</td>\n",
       "      <td>producer</td>\n",
       "      <td>None</td>\n",
       "    </tr>\n",
       "    <tr>\n",
       "      <th>3</th>\n",
       "      <td>tt0323808</td>\n",
       "      <td>10</td>\n",
       "      <td>nm0059247</td>\n",
       "      <td>editor</td>\n",
       "      <td>None</td>\n",
       "      <td>None</td>\n",
       "    </tr>\n",
       "    <tr>\n",
       "      <th>4</th>\n",
       "      <td>tt0323808</td>\n",
       "      <td>1</td>\n",
       "      <td>nm3579312</td>\n",
       "      <td>actress</td>\n",
       "      <td>None</td>\n",
       "      <td>[\"Beth Boothby\"]</td>\n",
       "    </tr>\n",
       "  </tbody>\n",
       "</table>\n",
       "</div>"
      ],
      "text/plain": [
       "    movie_id  ordering  person_id  category       job        characters\n",
       "0  tt0111414         1  nm0246005     actor      None       [\"The Man\"]\n",
       "1  tt0111414         2  nm0398271  director      None              None\n",
       "2  tt0111414         3  nm3739909  producer  producer              None\n",
       "3  tt0323808        10  nm0059247    editor      None              None\n",
       "4  tt0323808         1  nm3579312   actress      None  [\"Beth Boothby\"]"
      ]
     },
     "execution_count": 11,
     "metadata": {},
     "output_type": "execute_result"
    }
   ],
   "source": [
    "principals.head()"
   ]
  },
  {
   "cell_type": "code",
   "execution_count": 12,
   "metadata": {},
   "outputs": [
    {
     "name": "stdout",
     "output_type": "stream",
     "text": [
      "<class 'pandas.core.frame.DataFrame'>\n",
      "RangeIndex: 1028186 entries, 0 to 1028185\n",
      "Data columns (total 6 columns):\n",
      " #   Column      Non-Null Count    Dtype \n",
      "---  ------      --------------    ----- \n",
      " 0   movie_id    1028186 non-null  object\n",
      " 1   ordering    1028186 non-null  int64 \n",
      " 2   person_id   1028186 non-null  object\n",
      " 3   category    1028186 non-null  object\n",
      " 4   job         177684 non-null   object\n",
      " 5   characters  393360 non-null   object\n",
      "dtypes: int64(1), object(5)\n",
      "memory usage: 47.1+ MB\n"
     ]
    }
   ],
   "source": [
    "principals.info()"
   ]
  },
  {
   "cell_type": "markdown",
   "metadata": {},
   "source": [
    "We'll now limit the rows of this table to contain only those which pertain to an original movie, as denoted by the `movie_id` within our originals DataFrame. We can then join the resulting table with the `persons` and `movie_ratings` tables to obtain the names of the individuals, as well as the the ratings of their work."
   ]
  },
  {
   "cell_type": "code",
   "execution_count": 13,
   "metadata": {},
   "outputs": [],
   "source": [
    "originals_movie_ids = list(originals['movie_id'])\n",
    "principals_bool = [movie_id in originals_movie_ids for movie_id in principals['movie_id']]\n",
    "principals_in_orig = principals.loc[principals_bool]"
   ]
  },
  {
   "cell_type": "code",
   "execution_count": 14,
   "metadata": {},
   "outputs": [],
   "source": [
    "principals_names = principals_in_orig.set_index('person_id').join(persons.set_index('person_id'), how='inner')\n",
    "principals_names = principals_names.reset_index()\n",
    "prin_names_ratings = principals_names.set_index('movie_id').join(movie_ratings, how='inner')\n",
    "prin_names_ratings = prin_names_ratings.reset_index()"
   ]
  },
  {
   "cell_type": "markdown",
   "metadata": {},
   "source": [
    "We'll now define a function to parse the `prin_names_ratings` by `category` column, to separate the roles of the individuals into actors, actresses, directors, writers, producers, and composers. The function will then average the rating and number of votes of their work, as well as create a new column for the sum of the number of votes on all of their work. We can use this information to draw conclusions about how best to cast roles for our first films"
   ]
  },
  {
   "cell_type": "code",
   "execution_count": 15,
   "metadata": {},
   "outputs": [],
   "source": [
    "def create_top_tables(srole, source):\n",
    "    \"\"\"\n",
    "    INPUT:\n",
    "    This function is taking in a list of strings, and a cleaned principals table.\n",
    "    The list of strings are values from the roles within the Persons Table, Category Column, which we are interested in. \n",
    "    The Principals table has already been cleaned to have non-original works and unncessary columns removed.\n",
    "    \n",
    "    OUTPUT:\n",
    "    Outputs a DataFrame whose variable name is the relevant role, ordered by total number of votes.\n",
    "    \"\"\"\n",
    "    vars()[srole] = source.loc[source['category'] == srole].groupby('person_id').mean().sort_values(by='averagerating', ascending=False)\n",
    "    vars()[srole]['total_numvotes'] = source.loc[source['category'] == srole].groupby('person_id').sum()['numvotes']\n",
    "    vars()[srole] = vars()[srole].drop(['birth_year', 'ordering', 'death_year'], axis=1).join(persons.set_index('person_id'), how='inner').drop(labels='death_year', axis=1).rename(columns={'numvotes': 'avg_numvotes'})\n",
    "    vars()[srole] = vars()[srole].loc[vars()[srole]['avg_numvotes'] >= 200000].sort_values('total_numvotes', ascending=False)\n",
    "    vars()[srole]['avg_numvotes'] = vars()[srole]['avg_numvotes'].astype('int64')\n",
    "    return vars()[srole]"
   ]
  },
  {
   "cell_type": "code",
   "execution_count": 16,
   "metadata": {},
   "outputs": [],
   "source": [
    "roles = [\"actor\", \"actress\", \"director\", \"writer\", \"producer\", \"composer\"]\n",
    "for i in range(len(roles)):\n",
    "    vars()[roles[i]] = create_top_tables(roles[i], prin_names_ratings)"
   ]
  },
  {
   "cell_type": "markdown",
   "metadata": {},
   "source": [
    "Let's do a `.head()` on one of the resulting tables as a sanity check."
   ]
  },
  {
   "cell_type": "code",
   "execution_count": 17,
   "metadata": {
    "scrolled": true
   },
   "outputs": [
    {
     "data": {
      "text/html": [
       "<div>\n",
       "<style scoped>\n",
       "    .dataframe tbody tr th:only-of-type {\n",
       "        vertical-align: middle;\n",
       "    }\n",
       "\n",
       "    .dataframe tbody tr th {\n",
       "        vertical-align: top;\n",
       "    }\n",
       "\n",
       "    .dataframe thead th {\n",
       "        text-align: right;\n",
       "    }\n",
       "</style>\n",
       "<table border=\"1\" class=\"dataframe\">\n",
       "  <thead>\n",
       "    <tr style=\"text-align: right;\">\n",
       "      <th></th>\n",
       "      <th>averagerating</th>\n",
       "      <th>avg_numvotes</th>\n",
       "      <th>total_numvotes</th>\n",
       "      <th>primary_name</th>\n",
       "      <th>birth_year</th>\n",
       "      <th>primary_profession</th>\n",
       "    </tr>\n",
       "    <tr>\n",
       "      <th>person_id</th>\n",
       "      <th></th>\n",
       "      <th></th>\n",
       "      <th></th>\n",
       "      <th></th>\n",
       "      <th></th>\n",
       "      <th></th>\n",
       "    </tr>\n",
       "  </thead>\n",
       "  <tbody>\n",
       "    <tr>\n",
       "      <th>nm0000375</th>\n",
       "      <td>7.530769</td>\n",
       "      <td>488930</td>\n",
       "      <td>6356093</td>\n",
       "      <td>Robert Downey Jr.</td>\n",
       "      <td>1965.0</td>\n",
       "      <td>actor,producer,soundtrack</td>\n",
       "    </tr>\n",
       "    <tr>\n",
       "      <th>nm0000138</th>\n",
       "      <td>8.088889</td>\n",
       "      <td>697068</td>\n",
       "      <td>6273617</td>\n",
       "      <td>Leonardo DiCaprio</td>\n",
       "      <td>1974.0</td>\n",
       "      <td>actor,producer,writer</td>\n",
       "    </tr>\n",
       "    <tr>\n",
       "      <th>nm0262635</th>\n",
       "      <td>7.266667</td>\n",
       "      <td>367209</td>\n",
       "      <td>5508138</td>\n",
       "      <td>Chris Evans</td>\n",
       "      <td>1981.0</td>\n",
       "      <td>actor,producer,director</td>\n",
       "    </tr>\n",
       "    <tr>\n",
       "      <th>nm0362766</th>\n",
       "      <td>7.361538</td>\n",
       "      <td>380252</td>\n",
       "      <td>4943284</td>\n",
       "      <td>Tom Hardy</td>\n",
       "      <td>1977.0</td>\n",
       "      <td>actor,producer,writer</td>\n",
       "    </tr>\n",
       "    <tr>\n",
       "      <th>nm1165110</th>\n",
       "      <td>6.933333</td>\n",
       "      <td>323257</td>\n",
       "      <td>4848858</td>\n",
       "      <td>Chris Hemsworth</td>\n",
       "      <td>1983.0</td>\n",
       "      <td>actor,soundtrack,producer</td>\n",
       "    </tr>\n",
       "  </tbody>\n",
       "</table>\n",
       "</div>"
      ],
      "text/plain": [
       "           averagerating  avg_numvotes  total_numvotes       primary_name  \\\n",
       "person_id                                                                   \n",
       "nm0000375       7.530769        488930         6356093  Robert Downey Jr.   \n",
       "nm0000138       8.088889        697068         6273617  Leonardo DiCaprio   \n",
       "nm0262635       7.266667        367209         5508138        Chris Evans   \n",
       "nm0362766       7.361538        380252         4943284          Tom Hardy   \n",
       "nm1165110       6.933333        323257         4848858    Chris Hemsworth   \n",
       "\n",
       "           birth_year         primary_profession  \n",
       "person_id                                         \n",
       "nm0000375      1965.0  actor,producer,soundtrack  \n",
       "nm0000138      1974.0      actor,producer,writer  \n",
       "nm0262635      1981.0    actor,producer,director  \n",
       "nm0362766      1977.0      actor,producer,writer  \n",
       "nm1165110      1983.0  actor,soundtrack,producer  "
      ]
     },
     "execution_count": 17,
     "metadata": {},
     "output_type": "execute_result"
    }
   ],
   "source": [
    "actor.head()"
   ]
  },
  {
   "cell_type": "markdown",
   "metadata": {},
   "source": [
    "# 1. Budgets data cleaning"
   ]
  },
  {
   "cell_type": "code",
   "execution_count": 18,
   "metadata": {},
   "outputs": [
    {
     "name": "stdout",
     "output_type": "stream",
     "text": [
      "<class 'pandas.core.frame.DataFrame'>\n",
      "RangeIndex: 5782 entries, 0 to 5781\n",
      "Data columns (total 6 columns):\n",
      " #   Column             Non-Null Count  Dtype \n",
      "---  ------             --------------  ----- \n",
      " 0   id                 5782 non-null   int64 \n",
      " 1   release_date       5782 non-null   object\n",
      " 2   movie              5782 non-null   object\n",
      " 3   production_budget  5782 non-null   object\n",
      " 4   domestic_gross     5782 non-null   object\n",
      " 5   worldwide_gross    5782 non-null   object\n",
      "dtypes: int64(1), object(5)\n",
      "memory usage: 271.2+ KB\n"
     ]
    }
   ],
   "source": [
    "budgets = pd.read_csv(\"data/tn.movie_budgets.csv\")\n",
    "budgets.head()\n",
    "budgets.shape\n",
    "budgets.info()"
   ]
  },
  {
   "cell_type": "code",
   "execution_count": 19,
   "metadata": {},
   "outputs": [
    {
     "name": "stdout",
     "output_type": "stream",
     "text": [
      "<class 'pandas.core.frame.DataFrame'>\n",
      "RangeIndex: 5782 entries, 0 to 5781\n",
      "Data columns (total 6 columns):\n",
      " #   Column             Non-Null Count  Dtype         \n",
      "---  ------             --------------  -----         \n",
      " 0   id                 5782 non-null   int64         \n",
      " 1   release_date       5782 non-null   datetime64[ns]\n",
      " 2   movie              5782 non-null   object        \n",
      " 3   production_budget  5782 non-null   int32         \n",
      " 4   domestic_gross     5782 non-null   int32         \n",
      " 5   worldwide_gross    5782 non-null   int64         \n",
      "dtypes: datetime64[ns](1), int32(2), int64(2), object(1)\n",
      "memory usage: 226.0+ KB\n"
     ]
    }
   ],
   "source": [
    "budgets['production_budget'] = budgets['production_budget'].str.replace(\"$\", \"\").str.replace(\",\", \"\").astype(int)\n",
    "budgets['domestic_gross'] = budgets['domestic_gross'].str.replace(\"$\", \"\").str.replace(\",\", \"\").astype(int)\n",
    "budgets['worldwide_gross'] = budgets['worldwide_gross'].str.replace(\"$\", \"\").str.replace(\",\", \"\").astype('int64')\n",
    "budgets['release_date'] = pd.to_datetime(budgets['release_date'])\n",
    "budgets.head()\n",
    "budgets.info()"
   ]
  },
  {
   "cell_type": "markdown",
   "metadata": {},
   "source": [
    "# Comments on budgets data cleaning\n",
    "The file tn.movie_budgets.csv is now cleaned, and the data types are all configured for further analysis. \n",
    "\n",
    "There could potentially be an issue in the future where we have an issue with the in32 and int64 datatypes of the last 3 columns. If that occurs we can modify the data types at that time."
   ]
  },
  {
   "cell_type": "markdown",
   "metadata": {},
   "source": [
    "# 2. Loading and cleaning bom.movie_gross"
   ]
  },
  {
   "cell_type": "code",
   "execution_count": 20,
   "metadata": {},
   "outputs": [],
   "source": [
    "Bom = pd.read_csv(\"Data/bom.movie_gross.csv\")"
   ]
  },
  {
   "cell_type": "code",
   "execution_count": 21,
   "metadata": {},
   "outputs": [
    {
     "name": "stdout",
     "output_type": "stream",
     "text": [
      "<class 'pandas.core.frame.DataFrame'>\n",
      "RangeIndex: 3387 entries, 0 to 3386\n",
      "Data columns (total 5 columns):\n",
      " #   Column          Non-Null Count  Dtype  \n",
      "---  ------          --------------  -----  \n",
      " 0   title           3387 non-null   object \n",
      " 1   studio          3382 non-null   object \n",
      " 2   domestic_gross  3359 non-null   float64\n",
      " 3   foreign_gross   2037 non-null   object \n",
      " 4   year            3387 non-null   int64  \n",
      "dtypes: float64(1), int64(1), object(3)\n",
      "memory usage: 132.4+ KB\n"
     ]
    },
    {
     "data": {
      "text/plain": [
       "title                0\n",
       "studio               5\n",
       "domestic_gross      28\n",
       "foreign_gross     1350\n",
       "year                 0\n",
       "dtype: int64"
      ]
     },
     "execution_count": 21,
     "metadata": {},
     "output_type": "execute_result"
    }
   ],
   "source": [
    "Bom.head()\n",
    "Bom.info()\n",
    "Bom.isna().sum()"
   ]
  },
  {
   "cell_type": "markdown",
   "metadata": {},
   "source": [
    "# Comments on values for BOM Movie Gross\n",
    "\n",
    "- 5 missing values in studio. Will remove, since they're only 5 out of 3387.\n",
    "- 28 missing values in domestic gross, will turn them all to 0. All str, will have to convert them to float, once all null's have been replaced with 0. Inspected them to make sure they were just foreign films.\n",
    "- 1350 missing values in foreign gross (turn to 0), will turn them all to 0. All str, will have to convert them to float, once all null's have been replaced with 0. Domestic films that didn't have foreign gross. One has a comma, so have to take it out to normalize data."
   ]
  },
  {
   "cell_type": "code",
   "execution_count": 22,
   "metadata": {},
   "outputs": [],
   "source": [
    "Bom['foreign_gross'] = Bom['foreign_gross'].str.replace(',','')\n",
    "Bom['foreign_gross'] = Bom['foreign_gross'].astype(float)\n",
    "Bom['foreign_gross'] = Bom['foreign_gross'].fillna(0)\n",
    "Bom['domestic_gross'] = Bom['domestic_gross'].fillna(0)\n",
    "Bom = Bom.dropna(subset = ['studio'])"
   ]
  },
  {
   "cell_type": "code",
   "execution_count": 23,
   "metadata": {},
   "outputs": [],
   "source": [
    "# Will create a new column, total_gross, to be able to compare the aggregate gross down the line.\n",
    "Bom['total_gross'] = Bom['domestic_gross'] + Bom['foreign_gross']"
   ]
  },
  {
   "cell_type": "code",
   "execution_count": 24,
   "metadata": {},
   "outputs": [],
   "source": [
    "#Upon trying to join (in an exploratory notebook) Bom dataframe with the budgets dataframe,\n",
    "#we realized that we should change one of the 'domestic_gross' column name to be able to\n",
    "#differentiate.\n",
    "Bom.rename(columns={'domestic_gross':'domestic_gross_bom'},inplace=True)"
   ]
  },
  {
   "cell_type": "code",
   "execution_count": 25,
   "metadata": {},
   "outputs": [
    {
     "data": {
      "text/plain": [
       "'\\nThe above function takes in a string, in this case a movie title, and returns true if that\\nstring is in the provided Bom movie title list.\\n\\n'"
      ]
     },
     "execution_count": 25,
     "metadata": {},
     "output_type": "execute_result"
    }
   ],
   "source": [
    "Bom_titles = list(Bom['title'])\n",
    "\"\"\"\n",
    "We realized that in order to be able to give any sort of business advice we'd need to see\n",
    "what these movies cost to make. Even though the budgets table has domestic and worldwide\n",
    "gross, it does not have the studio that makes them. \n",
    "\n",
    "We will do a left join on the budgets dataframe with the movie titles as the overlap\n",
    "column. In order to see which movie titles are in both dataframes we are creating a new \n",
    "column in budgets that returns True if the movie title overlaps. This is why\n",
    "the above variable was created.\n",
    "\n",
    "This overlap will allow us to dig deeper into what the investment return metrics for a succesful\n",
    "movie studio look like. \n",
    "\n",
    "\"\"\"\n",
    "def compare_title(title):\n",
    "    if title in Bom_titles:\n",
    "        return True\n",
    "    else:\n",
    "        return False\n",
    "    \n",
    "\"\"\"\n",
    "The above function takes in a string, in this case a movie title, and returns true if that\n",
    "string is in the provided Bom movie title list.\n",
    "\n",
    "\"\"\""
   ]
  },
  {
   "cell_type": "code",
   "execution_count": 26,
   "metadata": {},
   "outputs": [
    {
     "data": {
      "text/html": [
       "<div>\n",
       "<style scoped>\n",
       "    .dataframe tbody tr th:only-of-type {\n",
       "        vertical-align: middle;\n",
       "    }\n",
       "\n",
       "    .dataframe tbody tr th {\n",
       "        vertical-align: top;\n",
       "    }\n",
       "\n",
       "    .dataframe thead th {\n",
       "        text-align: right;\n",
       "    }\n",
       "</style>\n",
       "<table border=\"1\" class=\"dataframe\">\n",
       "  <thead>\n",
       "    <tr style=\"text-align: right;\">\n",
       "      <th></th>\n",
       "      <th>id</th>\n",
       "      <th>release_date</th>\n",
       "      <th>movie</th>\n",
       "      <th>production_budget</th>\n",
       "      <th>domestic_gross</th>\n",
       "      <th>worldwide_gross</th>\n",
       "      <th>Bom</th>\n",
       "    </tr>\n",
       "  </thead>\n",
       "  <tbody>\n",
       "    <tr>\n",
       "      <th>0</th>\n",
       "      <td>1</td>\n",
       "      <td>2009-12-18</td>\n",
       "      <td>Avatar</td>\n",
       "      <td>425000000</td>\n",
       "      <td>760507625</td>\n",
       "      <td>2776345279</td>\n",
       "      <td>False</td>\n",
       "    </tr>\n",
       "    <tr>\n",
       "      <th>1</th>\n",
       "      <td>2</td>\n",
       "      <td>2011-05-20</td>\n",
       "      <td>Pirates of the Caribbean: On Stranger Tides</td>\n",
       "      <td>410600000</td>\n",
       "      <td>241063875</td>\n",
       "      <td>1045663875</td>\n",
       "      <td>True</td>\n",
       "    </tr>\n",
       "    <tr>\n",
       "      <th>2</th>\n",
       "      <td>3</td>\n",
       "      <td>2019-06-07</td>\n",
       "      <td>Dark Phoenix</td>\n",
       "      <td>350000000</td>\n",
       "      <td>42762350</td>\n",
       "      <td>149762350</td>\n",
       "      <td>False</td>\n",
       "    </tr>\n",
       "    <tr>\n",
       "      <th>3</th>\n",
       "      <td>4</td>\n",
       "      <td>2015-05-01</td>\n",
       "      <td>Avengers: Age of Ultron</td>\n",
       "      <td>330600000</td>\n",
       "      <td>459005868</td>\n",
       "      <td>1403013963</td>\n",
       "      <td>True</td>\n",
       "    </tr>\n",
       "    <tr>\n",
       "      <th>4</th>\n",
       "      <td>5</td>\n",
       "      <td>2017-12-15</td>\n",
       "      <td>Star Wars Ep. VIII: The Last Jedi</td>\n",
       "      <td>317000000</td>\n",
       "      <td>620181382</td>\n",
       "      <td>1316721747</td>\n",
       "      <td>False</td>\n",
       "    </tr>\n",
       "  </tbody>\n",
       "</table>\n",
       "</div>"
      ],
      "text/plain": [
       "   id release_date                                        movie  \\\n",
       "0   1   2009-12-18                                       Avatar   \n",
       "1   2   2011-05-20  Pirates of the Caribbean: On Stranger Tides   \n",
       "2   3   2019-06-07                                 Dark Phoenix   \n",
       "3   4   2015-05-01                      Avengers: Age of Ultron   \n",
       "4   5   2017-12-15            Star Wars Ep. VIII: The Last Jedi   \n",
       "\n",
       "   production_budget  domestic_gross  worldwide_gross    Bom  \n",
       "0          425000000       760507625       2776345279  False  \n",
       "1          410600000       241063875       1045663875   True  \n",
       "2          350000000        42762350        149762350  False  \n",
       "3          330600000       459005868       1403013963   True  \n",
       "4          317000000       620181382       1316721747  False  "
      ]
     },
     "execution_count": 26,
     "metadata": {},
     "output_type": "execute_result"
    }
   ],
   "source": [
    "budgets['Bom'] = budgets['movie'].map(compare_title)\n",
    "budgets.head()"
   ]
  },
  {
   "cell_type": "markdown",
   "metadata": {},
   "source": [
    "# 2.5 Left join bom to budgets"
   ]
  },
  {
   "cell_type": "code",
   "execution_count": 27,
   "metadata": {},
   "outputs": [
    {
     "data": {
      "text/html": [
       "<div>\n",
       "<style scoped>\n",
       "    .dataframe tbody tr th:only-of-type {\n",
       "        vertical-align: middle;\n",
       "    }\n",
       "\n",
       "    .dataframe tbody tr th {\n",
       "        vertical-align: top;\n",
       "    }\n",
       "\n",
       "    .dataframe thead th {\n",
       "        text-align: right;\n",
       "    }\n",
       "</style>\n",
       "<table border=\"1\" class=\"dataframe\">\n",
       "  <thead>\n",
       "    <tr style=\"text-align: right;\">\n",
       "      <th></th>\n",
       "      <th>id</th>\n",
       "      <th>release_date</th>\n",
       "      <th>movie</th>\n",
       "      <th>production_budget</th>\n",
       "      <th>domestic_gross</th>\n",
       "      <th>worldwide_gross</th>\n",
       "      <th>Bom</th>\n",
       "      <th>studio</th>\n",
       "      <th>domestic_gross_bom</th>\n",
       "      <th>foreign_gross</th>\n",
       "      <th>year</th>\n",
       "      <th>total_gross</th>\n",
       "    </tr>\n",
       "  </thead>\n",
       "  <tbody>\n",
       "    <tr>\n",
       "      <th>1</th>\n",
       "      <td>2</td>\n",
       "      <td>2011-05-20</td>\n",
       "      <td>Pirates of the Caribbean: On Stranger Tides</td>\n",
       "      <td>410600000</td>\n",
       "      <td>241063875</td>\n",
       "      <td>1045663875</td>\n",
       "      <td>True</td>\n",
       "      <td>BV</td>\n",
       "      <td>241100000.0</td>\n",
       "      <td>804600000.0</td>\n",
       "      <td>2011.0</td>\n",
       "      <td>1.045700e+09</td>\n",
       "    </tr>\n",
       "    <tr>\n",
       "      <th>3</th>\n",
       "      <td>4</td>\n",
       "      <td>2015-05-01</td>\n",
       "      <td>Avengers: Age of Ultron</td>\n",
       "      <td>330600000</td>\n",
       "      <td>459005868</td>\n",
       "      <td>1403013963</td>\n",
       "      <td>True</td>\n",
       "      <td>BV</td>\n",
       "      <td>459000000.0</td>\n",
       "      <td>946400000.0</td>\n",
       "      <td>2015.0</td>\n",
       "      <td>1.405400e+09</td>\n",
       "    </tr>\n",
       "    <tr>\n",
       "      <th>6</th>\n",
       "      <td>7</td>\n",
       "      <td>2018-04-27</td>\n",
       "      <td>Avengers: Infinity War</td>\n",
       "      <td>300000000</td>\n",
       "      <td>678815482</td>\n",
       "      <td>2048134200</td>\n",
       "      <td>True</td>\n",
       "      <td>BV</td>\n",
       "      <td>678800000.0</td>\n",
       "      <td>1369.5</td>\n",
       "      <td>2018.0</td>\n",
       "      <td>6.788014e+08</td>\n",
       "    </tr>\n",
       "    <tr>\n",
       "      <th>8</th>\n",
       "      <td>9</td>\n",
       "      <td>2017-11-17</td>\n",
       "      <td>Justice League</td>\n",
       "      <td>300000000</td>\n",
       "      <td>229024295</td>\n",
       "      <td>655945209</td>\n",
       "      <td>True</td>\n",
       "      <td>WB</td>\n",
       "      <td>229000000.0</td>\n",
       "      <td>428900000.0</td>\n",
       "      <td>2017.0</td>\n",
       "      <td>6.579000e+08</td>\n",
       "    </tr>\n",
       "    <tr>\n",
       "      <th>9</th>\n",
       "      <td>10</td>\n",
       "      <td>2015-11-06</td>\n",
       "      <td>Spectre</td>\n",
       "      <td>300000000</td>\n",
       "      <td>200074175</td>\n",
       "      <td>879620923</td>\n",
       "      <td>True</td>\n",
       "      <td>Sony</td>\n",
       "      <td>200100000.0</td>\n",
       "      <td>680600000.0</td>\n",
       "      <td>2015.0</td>\n",
       "      <td>8.807000e+08</td>\n",
       "    </tr>\n",
       "    <tr>\n",
       "      <th>...</th>\n",
       "      <td>...</td>\n",
       "      <td>...</td>\n",
       "      <td>...</td>\n",
       "      <td>...</td>\n",
       "      <td>...</td>\n",
       "      <td>...</td>\n",
       "      <td>...</td>\n",
       "      <td>...</td>\n",
       "      <td>...</td>\n",
       "      <td>...</td>\n",
       "      <td>...</td>\n",
       "      <td>...</td>\n",
       "    </tr>\n",
       "    <tr>\n",
       "      <th>5667</th>\n",
       "      <td>68</td>\n",
       "      <td>2012-04-27</td>\n",
       "      <td>Sound of My Voice</td>\n",
       "      <td>135000</td>\n",
       "      <td>408015</td>\n",
       "      <td>429448</td>\n",
       "      <td>True</td>\n",
       "      <td>FoxS</td>\n",
       "      <td>408000.0</td>\n",
       "      <td>0.0</td>\n",
       "      <td>2012.0</td>\n",
       "      <td>4.080000e+05</td>\n",
       "    </tr>\n",
       "    <tr>\n",
       "      <th>5672</th>\n",
       "      <td>73</td>\n",
       "      <td>2012-06-15</td>\n",
       "      <td>Your Sister's Sister</td>\n",
       "      <td>120000</td>\n",
       "      <td>1597486</td>\n",
       "      <td>3090593</td>\n",
       "      <td>True</td>\n",
       "      <td>IFC</td>\n",
       "      <td>1600000.0</td>\n",
       "      <td>0.0</td>\n",
       "      <td>2012.0</td>\n",
       "      <td>1.600000e+06</td>\n",
       "    </tr>\n",
       "    <tr>\n",
       "      <th>5679</th>\n",
       "      <td>80</td>\n",
       "      <td>2015-07-10</td>\n",
       "      <td>The Gallows</td>\n",
       "      <td>100000</td>\n",
       "      <td>22764410</td>\n",
       "      <td>41656474</td>\n",
       "      <td>True</td>\n",
       "      <td>WB (NL)</td>\n",
       "      <td>22800000.0</td>\n",
       "      <td>20200000.0</td>\n",
       "      <td>2015.0</td>\n",
       "      <td>4.300000e+07</td>\n",
       "    </tr>\n",
       "    <tr>\n",
       "      <th>5685</th>\n",
       "      <td>86</td>\n",
       "      <td>2017-07-07</td>\n",
       "      <td>A Ghost Story</td>\n",
       "      <td>100000</td>\n",
       "      <td>1594798</td>\n",
       "      <td>2769782</td>\n",
       "      <td>True</td>\n",
       "      <td>A24</td>\n",
       "      <td>1600000.0</td>\n",
       "      <td>0.0</td>\n",
       "      <td>2017.0</td>\n",
       "      <td>1.600000e+06</td>\n",
       "    </tr>\n",
       "    <tr>\n",
       "      <th>5717</th>\n",
       "      <td>18</td>\n",
       "      <td>2010-11-12</td>\n",
       "      <td>Tiny Furniture</td>\n",
       "      <td>50000</td>\n",
       "      <td>391674</td>\n",
       "      <td>424149</td>\n",
       "      <td>True</td>\n",
       "      <td>IFC</td>\n",
       "      <td>392000.0</td>\n",
       "      <td>0.0</td>\n",
       "      <td>2010.0</td>\n",
       "      <td>3.920000e+05</td>\n",
       "    </tr>\n",
       "  </tbody>\n",
       "</table>\n",
       "<p>1246 rows × 12 columns</p>\n",
       "</div>"
      ],
      "text/plain": [
       "      id release_date                                        movie  \\\n",
       "1      2   2011-05-20  Pirates of the Caribbean: On Stranger Tides   \n",
       "3      4   2015-05-01                      Avengers: Age of Ultron   \n",
       "6      7   2018-04-27                       Avengers: Infinity War   \n",
       "8      9   2017-11-17                               Justice League   \n",
       "9     10   2015-11-06                                      Spectre   \n",
       "...   ..          ...                                          ...   \n",
       "5667  68   2012-04-27                            Sound of My Voice   \n",
       "5672  73   2012-06-15                         Your Sister's Sister   \n",
       "5679  80   2015-07-10                                  The Gallows   \n",
       "5685  86   2017-07-07                                A Ghost Story   \n",
       "5717  18   2010-11-12                               Tiny Furniture   \n",
       "\n",
       "      production_budget  domestic_gross  worldwide_gross   Bom   studio  \\\n",
       "1             410600000       241063875       1045663875  True       BV   \n",
       "3             330600000       459005868       1403013963  True       BV   \n",
       "6             300000000       678815482       2048134200  True       BV   \n",
       "8             300000000       229024295        655945209  True       WB   \n",
       "9             300000000       200074175        879620923  True     Sony   \n",
       "...                 ...             ...              ...   ...      ...   \n",
       "5667             135000          408015           429448  True     FoxS   \n",
       "5672             120000         1597486          3090593  True      IFC   \n",
       "5679             100000        22764410         41656474  True  WB (NL)   \n",
       "5685             100000         1594798          2769782  True      A24   \n",
       "5717              50000          391674           424149  True      IFC   \n",
       "\n",
       "      domestic_gross_bom  foreign_gross    year   total_gross  \n",
       "1            241100000.0    804600000.0  2011.0  1.045700e+09  \n",
       "3            459000000.0    946400000.0  2015.0  1.405400e+09  \n",
       "6            678800000.0         1369.5  2018.0  6.788014e+08  \n",
       "8            229000000.0    428900000.0  2017.0  6.579000e+08  \n",
       "9            200100000.0    680600000.0  2015.0  8.807000e+08  \n",
       "...                  ...            ...     ...           ...  \n",
       "5667            408000.0            0.0  2012.0  4.080000e+05  \n",
       "5672           1600000.0            0.0  2012.0  1.600000e+06  \n",
       "5679          22800000.0     20200000.0  2015.0  4.300000e+07  \n",
       "5685           1600000.0            0.0  2017.0  1.600000e+06  \n",
       "5717            392000.0            0.0  2010.0  3.920000e+05  \n",
       "\n",
       "[1246 rows x 12 columns]"
      ]
     },
     "execution_count": 27,
     "metadata": {},
     "output_type": "execute_result"
    }
   ],
   "source": [
    "Bom_budg_ljn_on_title = budgets.join(Bom.set_index(['title']), on=['movie'])\n",
    "\"\"\"\n",
    "Below we're taking a look at all the movies that overlap in bom and budgets, and have a non\n",
    "null value in the studio column.\n",
    "\"\"\"\n",
    "Bom_budg_ljn_on_title.loc[(Bom_budg_ljn_on_title['Bom']== True) & (Bom_budg_ljn_on_title['studio'] != Bom_budg_ljn_on_title['studio'].isna())]"
   ]
  },
  {
   "cell_type": "code",
   "execution_count": 28,
   "metadata": {},
   "outputs": [
    {
     "data": {
      "text/html": [
       "<div>\n",
       "<style scoped>\n",
       "    .dataframe tbody tr th:only-of-type {\n",
       "        vertical-align: middle;\n",
       "    }\n",
       "\n",
       "    .dataframe tbody tr th {\n",
       "        vertical-align: top;\n",
       "    }\n",
       "\n",
       "    .dataframe thead th {\n",
       "        text-align: right;\n",
       "    }\n",
       "</style>\n",
       "<table border=\"1\" class=\"dataframe\">\n",
       "  <thead>\n",
       "    <tr style=\"text-align: right;\">\n",
       "      <th></th>\n",
       "      <th>worldwide_gross</th>\n",
       "      <th>total_production_budget</th>\n",
       "      <th>$_lifetime_return</th>\n",
       "      <th>%_lifetime_return</th>\n",
       "      <th>#_of_films</th>\n",
       "    </tr>\n",
       "  </thead>\n",
       "  <tbody>\n",
       "    <tr>\n",
       "      <th>count</th>\n",
       "      <td>9.900000e+01</td>\n",
       "      <td>9.900000e+01</td>\n",
       "      <td>9.900000e+01</td>\n",
       "      <td>99.000000</td>\n",
       "      <td>99.000000</td>\n",
       "    </tr>\n",
       "    <tr>\n",
       "      <th>mean</th>\n",
       "      <td>1.916135e+09</td>\n",
       "      <td>5.918551e+08</td>\n",
       "      <td>1.324280e+09</td>\n",
       "      <td>1.003176</td>\n",
       "      <td>12.585859</td>\n",
       "    </tr>\n",
       "    <tr>\n",
       "      <th>std</th>\n",
       "      <td>5.905648e+09</td>\n",
       "      <td>1.724612e+09</td>\n",
       "      <td>4.205917e+09</td>\n",
       "      <td>2.154181</td>\n",
       "      <td>23.758998</td>\n",
       "    </tr>\n",
       "    <tr>\n",
       "      <th>min</th>\n",
       "      <td>7.943000e+03</td>\n",
       "      <td>4.000000e+05</td>\n",
       "      <td>-9.009679e+07</td>\n",
       "      <td>-0.994725</td>\n",
       "      <td>1.000000</td>\n",
       "    </tr>\n",
       "    <tr>\n",
       "      <th>25%</th>\n",
       "      <td>5.686178e+06</td>\n",
       "      <td>8.650000e+06</td>\n",
       "      <td>-5.256492e+06</td>\n",
       "      <td>-0.499748</td>\n",
       "      <td>1.000000</td>\n",
       "    </tr>\n",
       "    <tr>\n",
       "      <th>50%</th>\n",
       "      <td>3.899229e+07</td>\n",
       "      <td>3.700000e+07</td>\n",
       "      <td>7.955193e+06</td>\n",
       "      <td>0.430914</td>\n",
       "      <td>2.000000</td>\n",
       "    </tr>\n",
       "    <tr>\n",
       "      <th>75%</th>\n",
       "      <td>3.925437e+08</td>\n",
       "      <td>1.716600e+08</td>\n",
       "      <td>2.452042e+08</td>\n",
       "      <td>2.094872</td>\n",
       "      <td>10.000000</td>\n",
       "    </tr>\n",
       "    <tr>\n",
       "      <th>max</th>\n",
       "      <td>3.328602e+10</td>\n",
       "      <td>9.450800e+09</td>\n",
       "      <td>2.383522e+10</td>\n",
       "      <td>13.319383</td>\n",
       "      <td>117.000000</td>\n",
       "    </tr>\n",
       "  </tbody>\n",
       "</table>\n",
       "</div>"
      ],
      "text/plain": [
       "       worldwide_gross  total_production_budget  $_lifetime_return  \\\n",
       "count     9.900000e+01             9.900000e+01       9.900000e+01   \n",
       "mean      1.916135e+09             5.918551e+08       1.324280e+09   \n",
       "std       5.905648e+09             1.724612e+09       4.205917e+09   \n",
       "min       7.943000e+03             4.000000e+05      -9.009679e+07   \n",
       "25%       5.686178e+06             8.650000e+06      -5.256492e+06   \n",
       "50%       3.899229e+07             3.700000e+07       7.955193e+06   \n",
       "75%       3.925437e+08             1.716600e+08       2.452042e+08   \n",
       "max       3.328602e+10             9.450800e+09       2.383522e+10   \n",
       "\n",
       "       %_lifetime_return  #_of_films  \n",
       "count          99.000000   99.000000  \n",
       "mean            1.003176   12.585859  \n",
       "std             2.154181   23.758998  \n",
       "min            -0.994725    1.000000  \n",
       "25%            -0.499748    1.000000  \n",
       "50%             0.430914    2.000000  \n",
       "75%             2.094872   10.000000  \n",
       "max            13.319383  117.000000  "
      ]
     },
     "execution_count": 28,
     "metadata": {},
     "output_type": "execute_result"
    }
   ],
   "source": [
    "\"\"\"\n",
    "Creating a separate dataframe to analyze each studio's worldwide total gross in usd, \n",
    "total production budget in usd, lifetime return in usd (which is calculated via\n",
    "'worldwide total gross' - 'total production budget'), lifetime return as a % (which is\n",
    "calculated via (('worldwide total gross' / 'total production budget')-1)), and the total\n",
    "number of films per studio that these return metrics are based off of. Which in some cases\n",
    "may be a very small sample of the total catalogue that studio has.\n",
    "\n",
    "\"\"\"\n",
    "studio_gross = Bom_budg_ljn_on_title.groupby('studio')['worldwide_gross'].sum().astype('int64')\n",
    "studio_gross = pd.DataFrame(studio_gross)\n",
    "studio_gross['total_production_budget'] = Bom_budg_ljn_on_title.groupby('studio')['production_budget'].sum().astype('int64')\n",
    "studio_gross['$_lifetime_return'] = studio_gross['worldwide_gross'] - studio_gross['total_production_budget']\n",
    "studio_gross['%_lifetime_return'] = (studio_gross['worldwide_gross']/studio_gross['total_production_budget']) - 1\n",
    "studio_gross['#_of_films'] = Bom_budg_ljn_on_title.groupby('studio')['Bom'].sum().astype('int64')\n",
    "studio_gross.reset_index(inplace=True)\n",
    "studio_gross.describe()"
   ]
  },
  {
   "cell_type": "code",
   "execution_count": 29,
   "metadata": {},
   "outputs": [],
   "source": [
    "\"\"\"\n",
    "There appears to only be 1,246 movies that overlap. Want to see mean, median, and 75% IQR\n",
    "for all values. Upon review, in order to give a recommendation on a studio we'll need to\n",
    "narrow down our search to studios that have at least produced more than 10 (75% IQR) or\n",
    "12 movies (mean). This will be our cutoff, so that we can't recommend a one hit wonder\n",
    "studio or so to speak.\n",
    "\"\"\"\n",
    "studio_gross.loc[studio_gross['#_of_films'] > 10].sort_values('#_of_films',ascending=False)\n",
    "studio_usd_sort = studio_gross.sort_values('$_lifetime_return',ascending=False)\n",
    "studio_pct_sort = studio_gross.loc[studio_gross['#_of_films'] > 10].sort_values('%_lifetime_return',ascending=False)"
   ]
  },
  {
   "cell_type": "markdown",
   "metadata": {},
   "source": [
    "# 3. Loading in and cleaning RT movie info"
   ]
  },
  {
   "cell_type": "code",
   "execution_count": 30,
   "metadata": {},
   "outputs": [
    {
     "name": "stdout",
     "output_type": "stream",
     "text": [
      "<class 'pandas.core.frame.DataFrame'>\n",
      "RangeIndex: 1560 entries, 0 to 1559\n",
      "Data columns (total 12 columns):\n",
      " #   Column        Non-Null Count  Dtype \n",
      "---  ------        --------------  ----- \n",
      " 0   id            1560 non-null   int64 \n",
      " 1   synopsis      1498 non-null   object\n",
      " 2   rating        1557 non-null   object\n",
      " 3   genre         1552 non-null   object\n",
      " 4   director      1361 non-null   object\n",
      " 5   writer        1111 non-null   object\n",
      " 6   theater_date  1201 non-null   object\n",
      " 7   dvd_date      1201 non-null   object\n",
      " 8   currency      340 non-null    object\n",
      " 9   box_office    340 non-null    object\n",
      " 10  runtime       1530 non-null   object\n",
      " 11  studio        494 non-null    object\n",
      "dtypes: int64(1), object(11)\n",
      "memory usage: 146.4+ KB\n"
     ]
    },
    {
     "data": {
      "text/plain": [
       "id                 0\n",
       "synopsis          62\n",
       "rating             3\n",
       "genre              8\n",
       "director         199\n",
       "writer           449\n",
       "theater_date     359\n",
       "dvd_date         359\n",
       "currency        1220\n",
       "box_office      1220\n",
       "runtime           30\n",
       "studio          1066\n",
       "dtype: int64"
      ]
     },
     "execution_count": 30,
     "metadata": {},
     "output_type": "execute_result"
    }
   ],
   "source": [
    "Rt = pd.read_csv('Data/rt.movie_info.tsv',sep = '\\t')\n",
    "Rt.head()\n",
    "Rt.info()\n",
    "Rt.isna().sum()"
   ]
  },
  {
   "cell_type": "markdown",
   "metadata": {},
   "source": [
    "# Missing data comments\n",
    "- synopsis, only missing 62 entries\n",
    "- rating missing 3 entries\n",
    "- genre missing 8 values, since our analysis in this section will be based upon genres we'll remove the nulls here. Removing them because they're a very small portion of the dataset.\n",
    "- director, missing 199 entries\n",
    "- writer, missing 449 entries\n",
    "- theater_date, missing 359 entries\n",
    "- dvd_date, missing 359 entries as well\n",
    "- currency, missing 1210 entries\n",
    "- box-office, missing 1210 entries as well.\n",
    "- runtime, missing 20 entries\n",
    "- studio, missing 1066 entries\n",
    "- I don't have any move titles...."
   ]
  },
  {
   "cell_type": "markdown",
   "metadata": {},
   "source": [
    "# Cleaning the RT dataframe\n",
    "- Should condense genre, to a category | subcategory\n",
    "- Should turn the dates to date value\n",
    "- Should turn the box office number into an int or float\n",
    "- Should standardize runtime into mins\n",
    "- Will remove entries without synopsis as we won't be able to source movie title, and double checked that they do not have box office numbers either."
   ]
  },
  {
   "cell_type": "code",
   "execution_count": 31,
   "metadata": {},
   "outputs": [],
   "source": [
    "# Cleaning up the box office numbers from str to int\n",
    "Rt['box_office'] = Rt['box_office'].str.replace(',','')\n",
    "\n",
    "# Cleaning up the theater and dvd dates to datetime format.\n",
    "Rt['theater_date'] = pd.to_datetime(Rt['theater_date'])\n",
    "Rt['dvd_date'] = pd.to_datetime(Rt['dvd_date'])"
   ]
  },
  {
   "cell_type": "markdown",
   "metadata": {},
   "source": [
    "# Findings on data exploration\n",
    "Was going to remove the null synopsis entries, and try to match the movie titles in the\n",
    "budgets CSV titles to the movie title in the synopsis string. Every synopsis mentions the title of the movie they're talking about at least once. The problem with trying to return the movie title string if it's in the synopsis is that for a single word or number movie title, it would return the wrong movie title. Example being 'her', the word her appears a myriad of times through a multitude of synopsis, which would lead to incorrect movie titles being assigned.\n",
    "\n",
    "Rt = Rt.dropna(subset=['synopsis'])"
   ]
  },
  {
   "cell_type": "code",
   "execution_count": 32,
   "metadata": {},
   "outputs": [],
   "source": [
    "\"\"\"\n",
    "Decided to pivot from trying to join this dataframe with budgets, and now we are going to \n",
    "standardize the 'genre' format in order to produce an analysis based on 'genre' and 'fresh'\n",
    "rating. Going to limit the 'genre' column to just the first two that currently show in 'genre'.\n",
    "This will lower the unique genre's from 299 to 78.\n",
    "\n",
    "We want to find out if there's a skew for certain genres, although more popular movies\n",
    "in any genre will always skew a genre due to the number of ratings.\n",
    "\"\"\"\n",
    "def genre_condenser(genre):\n",
    "    new_genre = genre.split(sep='|')\n",
    "    try:\n",
    "        if 'Classics' in new_genre:\n",
    "            new_genre.remove('Classics')\n",
    "            new_genre = f'{new_genre[0]}|{new_genre[1]}'\n",
    "            return new_genre\n",
    "        else:\n",
    "            new_genre = f'{new_genre[0]}|{new_genre[1]}'\n",
    "            return new_genre\n",
    "    except:\n",
    "        new_genre = f'{new_genre[0]}'\n",
    "        return new_genre\n",
    "\n",
    "#Dropping the Nan values associated with genre.\n",
    "Rt = Rt.dropna(subset = ['genre'])\n",
    "Rt['genre'] = Rt['genre'].map(genre_condenser)"
   ]
  },
  {
   "cell_type": "markdown",
   "metadata": {},
   "source": [
    "# 2.5 Loading in the RT Reviews\n",
    "- When at least 60% of reviews for a movie or TV show are positive, a red tomato is displayed to indicate its Fresh status.\n",
    "\n",
    "- When less than 60% of reviews for a movie or TV show are positive, a green splat is displayed to indicate its Rotten status.\n",
    "\n",
    "https://www.rottentomatoes.com/about"
   ]
  },
  {
   "cell_type": "code",
   "execution_count": 33,
   "metadata": {},
   "outputs": [
    {
     "name": "stdout",
     "output_type": "stream",
     "text": [
      "<class 'pandas.core.frame.DataFrame'>\n",
      "RangeIndex: 54432 entries, 0 to 54431\n",
      "Data columns (total 8 columns):\n",
      " #   Column      Non-Null Count  Dtype \n",
      "---  ------      --------------  ----- \n",
      " 0   id          54432 non-null  int64 \n",
      " 1   review      48869 non-null  object\n",
      " 2   rating      40915 non-null  object\n",
      " 3   fresh       54432 non-null  object\n",
      " 4   critic      51710 non-null  object\n",
      " 5   top_critic  54432 non-null  int64 \n",
      " 6   publisher   54123 non-null  object\n",
      " 7   date        54432 non-null  object\n",
      "dtypes: int64(2), object(6)\n",
      "memory usage: 3.3+ MB\n"
     ]
    },
    {
     "data": {
      "text/plain": [
       "id                0\n",
       "review         5563\n",
       "rating        13517\n",
       "fresh             0\n",
       "critic         2722\n",
       "top_critic        0\n",
       "publisher       309\n",
       "date              0\n",
       "dtype: int64"
      ]
     },
     "execution_count": 33,
     "metadata": {},
     "output_type": "execute_result"
    }
   ],
   "source": [
    "Rt_Reviews = pd.read_csv('Data/rt.reviews.tsv',delimiter='\\t',encoding='cp850')\n",
    "Rt_Reviews.info()\n",
    "Rt_Reviews.isna().sum()"
   ]
  },
  {
   "cell_type": "markdown",
   "metadata": {},
   "source": [
    "# Missing values\n",
    "- review         5563\n",
    "- rating        13517\n",
    "- critic         2722\n",
    "- publisher       309\n",
    "- No missing values for 'fresh', which let's us fully exlpore our 'fresh' to 'genre'\n",
    "    analysis."
   ]
  },
  {
   "cell_type": "code",
   "execution_count": 34,
   "metadata": {},
   "outputs": [
    {
     "data": {
      "text/plain": [
       "782     338\n",
       "1067    275\n",
       "1525    262\n",
       "1777    260\n",
       "1083    260\n",
       "       ... \n",
       "28        1\n",
       "102       1\n",
       "348       1\n",
       "476       1\n",
       "1727      1\n",
       "Name: id, Length: 1135, dtype: int64"
      ]
     },
     "execution_count": 34,
     "metadata": {},
     "output_type": "execute_result"
    }
   ],
   "source": [
    "#It appears that there are only 1135 unique movies according to the unique id count.\n",
    "#So we have 425 less unique movies to compare. Total movies in the RT movie info is 1560.\n",
    "Rt_Reviews['id'].value_counts()"
   ]
  },
  {
   "cell_type": "code",
   "execution_count": 35,
   "metadata": {},
   "outputs": [],
   "source": [
    "# In order to join, need to change the rating label col name for one of them.\n",
    "# Upon joining it looks like we have five less genres. 78 to 73.\n",
    "Rt_Reviews.rename(columns={'rating':'mov_rating'}, inplace=True)\n",
    "Rt_id_left_join = Rt_Reviews.join(Rt.set_index(['id']), on=['id'])"
   ]
  },
  {
   "cell_type": "code",
   "execution_count": 36,
   "metadata": {},
   "outputs": [
    {
     "data": {
      "text/html": [
       "<div>\n",
       "<style scoped>\n",
       "    .dataframe tbody tr th:only-of-type {\n",
       "        vertical-align: middle;\n",
       "    }\n",
       "\n",
       "    .dataframe tbody tr th {\n",
       "        vertical-align: top;\n",
       "    }\n",
       "\n",
       "    .dataframe thead th {\n",
       "        text-align: right;\n",
       "    }\n",
       "</style>\n",
       "<table border=\"1\" class=\"dataframe\">\n",
       "  <thead>\n",
       "    <tr style=\"text-align: right;\">\n",
       "      <th></th>\n",
       "      <th>id</th>\n",
       "      <th>top_critic</th>\n",
       "    </tr>\n",
       "  </thead>\n",
       "  <tbody>\n",
       "    <tr>\n",
       "      <th>count</th>\n",
       "      <td>54432.000000</td>\n",
       "      <td>54432.000000</td>\n",
       "    </tr>\n",
       "    <tr>\n",
       "      <th>mean</th>\n",
       "      <td>1045.706882</td>\n",
       "      <td>0.240594</td>\n",
       "    </tr>\n",
       "    <tr>\n",
       "      <th>std</th>\n",
       "      <td>586.657046</td>\n",
       "      <td>0.427448</td>\n",
       "    </tr>\n",
       "    <tr>\n",
       "      <th>min</th>\n",
       "      <td>3.000000</td>\n",
       "      <td>0.000000</td>\n",
       "    </tr>\n",
       "    <tr>\n",
       "      <th>25%</th>\n",
       "      <td>542.000000</td>\n",
       "      <td>0.000000</td>\n",
       "    </tr>\n",
       "    <tr>\n",
       "      <th>50%</th>\n",
       "      <td>1083.000000</td>\n",
       "      <td>0.000000</td>\n",
       "    </tr>\n",
       "    <tr>\n",
       "      <th>75%</th>\n",
       "      <td>1541.000000</td>\n",
       "      <td>0.000000</td>\n",
       "    </tr>\n",
       "    <tr>\n",
       "      <th>max</th>\n",
       "      <td>2000.000000</td>\n",
       "      <td>1.000000</td>\n",
       "    </tr>\n",
       "  </tbody>\n",
       "</table>\n",
       "</div>"
      ],
      "text/plain": [
       "                 id    top_critic\n",
       "count  54432.000000  54432.000000\n",
       "mean    1045.706882      0.240594\n",
       "std      586.657046      0.427448\n",
       "min        3.000000      0.000000\n",
       "25%      542.000000      0.000000\n",
       "50%     1083.000000      0.000000\n",
       "75%     1541.000000      0.000000\n",
       "max     2000.000000      1.000000"
      ]
     },
     "execution_count": 36,
     "metadata": {},
     "output_type": "execute_result"
    }
   ],
   "source": [
    "\"\"\"\n",
    "Want to see the average review amount per movie. One movie equals one genre type.\n",
    "Here we see that on average each movie had 1,045 reviews, so that will be our cutoff to\n",
    "analyze genres.\n",
    "\n",
    "\"\"\"\n",
    "Rt_id_left_join.describe()"
   ]
  },
  {
   "cell_type": "code",
   "execution_count": 37,
   "metadata": {},
   "outputs": [],
   "source": [
    "\"\"\"\n",
    "All the genres in the analysis will have at least 1,000 reviews. In order to understand if\n",
    "a genre is fresh or not, we're creating two separate dataframes. One where all the reviews\n",
    "are fresh and another where all the reviews are rotten. Then we're going to create a merged\n",
    "dataframe where all the fresh and rotten reviews are counted by genre. In order to see\n",
    "whether a genre is overall 'fresh' aka popular, we'll divide the 'fresh' count by the\n",
    "'rotten' count per genre. If the ratio is positive then it's indicating that reviewers\n",
    "find this genre more popular, but if it's negative it indicates that the genre is viewed as\n",
    "a less desirable genre.\n",
    "\n",
    "fresh ratio % = 'fresh'/'rotten'\n",
    "\n",
    "\"\"\"\n",
    "\n",
    "fresh_Rt_join = Rt_id_left_join.loc[Rt_id_left_join['fresh'] == 'fresh']\n",
    "rotten_Rt_join = Rt_id_left_join.loc[Rt_id_left_join['fresh'] == 'rotten']\n",
    "\n",
    "for_Rt_genre = fresh_Rt_join.groupby('genre')['fresh'].count()\n",
    "for_Rt_genre = pd.DataFrame(for_Rt_genre)\n",
    "for_Rt_genre['rotten'] = rotten_Rt_join.groupby('genre')['fresh'].count()\n",
    "for_Rt_genre['rotten'].fillna(0, inplace = True)\n",
    "for_Rt_genre['fresh_ratio_%'] = (for_Rt_genre['fresh'] / for_Rt_genre['rotten'])-1\n",
    "for_Rt_genre['total_reviews'] = for_Rt_genre['fresh']+for_Rt_genre['rotten']\n",
    "for_Rt_genre.reset_index(inplace=True)\n",
    "for_Rt_genre_cutoff = for_Rt_genre.loc[for_Rt_genre['total_reviews'] >= 1000]\n",
    "for_Rt_genre_cutoff = for_Rt_genre_cutoff.sort_values('total_reviews',ascending=False).head(10)\n",
    "for_Rt_genre_cutoff = for_Rt_genre_cutoff.sort_values('fresh_ratio_%',ascending=False)"
   ]
  },
  {
   "cell_type": "markdown",
   "metadata": {},
   "source": [
    "# 4. Loading in and cleaning tmdb.movies"
   ]
  },
  {
   "cell_type": "code",
   "execution_count": 38,
   "metadata": {},
   "outputs": [],
   "source": [
    "tmdb = pd.read_csv('Data/tmdb.movies.csv')"
   ]
  },
  {
   "cell_type": "code",
   "execution_count": 39,
   "metadata": {},
   "outputs": [
    {
     "name": "stdout",
     "output_type": "stream",
     "text": [
      "<class 'pandas.core.frame.DataFrame'>\n",
      "RangeIndex: 26517 entries, 0 to 26516\n",
      "Data columns (total 9 columns):\n",
      " #   Column             Non-Null Count  Dtype  \n",
      "---  ------             --------------  -----  \n",
      " 0   genre_ids          26517 non-null  object \n",
      " 1   id                 26517 non-null  int64  \n",
      " 2   original_language  26517 non-null  object \n",
      " 3   original_title     26517 non-null  object \n",
      " 4   popularity         26517 non-null  float64\n",
      " 5   release_date       26517 non-null  object \n",
      " 6   title              26517 non-null  object \n",
      " 7   vote_average       26517 non-null  float64\n",
      " 8   vote_count         26517 non-null  int64  \n",
      "dtypes: float64(2), int64(2), object(5)\n",
      "memory usage: 1.8+ MB\n"
     ]
    }
   ],
   "source": [
    "#Dropping Unnamed: 0\n",
    "#No missing values\n",
    "tmdb.drop(columns=['Unnamed: 0'],inplace=True)\n",
    "tmdb.info()"
   ]
  },
  {
   "cell_type": "code",
   "execution_count": 40,
   "metadata": {},
   "outputs": [
    {
     "data": {
      "text/plain": [
       "[99]                      3700\n",
       "[18]                      2268\n",
       "[35]                      1660\n",
       "[27]                      1145\n",
       "[53]                       480\n",
       "                          ... \n",
       "[35, 12, 16]                 1\n",
       "[18, 28, 10749, 10752]       1\n",
       "[28, 14, 878, 12]            1\n",
       "[27, 53, 99]                 1\n",
       "[10749, 80, 18, 35]          1\n",
       "Name: genre_ids, Length: 2476, dtype: int64"
      ]
     },
     "execution_count": 40,
     "metadata": {},
     "output_type": "execute_result"
    }
   ],
   "source": [
    "#Getting rid of the empty genre_id entries, around 2000 entries eliminated from this. Have\n",
    "#around 1000 genres, will deal with this below by creating a fucntion to map out the dataframe.\n",
    "tmdb = tmdb.loc[tmdb['genre_ids'] != '[]']\n",
    "tmdb['genre_ids'].value_counts()"
   ]
  },
  {
   "cell_type": "code",
   "execution_count": 41,
   "metadata": {},
   "outputs": [],
   "source": [
    "#TMDB genre ID tags https://www.themoviedb.org/talk/5daf6eb0ae36680011d7e6ee\n",
    "#Created a dictionary, based on the id values found on the website!\n",
    "tmdb_genres= {\"28\":\"Action\",\n",
    "            \"12\":\"Adventure\",\n",
    "            \"16\":\"Animation\",\n",
    "            \"35\":\"Comedy\",\n",
    "            \"80\":\"Crime\",\n",
    "            \"99\":\"Documentary\",\n",
    "            \"18\":\"Drama\",\n",
    "            \"10751\":\"Family\",\n",
    "            \"14\":\"Fantasy\",\n",
    "            \"36\":\"History\",\n",
    "            \"27\":\"Horror\",\n",
    "            \"10402\":\"Music\",\n",
    "            \"9648\":\"Mystery\",\n",
    "            \"10749\":\"Romance\",\n",
    "            \"878\":\"Science Fiction\",\n",
    "            \"10770\":\"TV Movie\",\n",
    "            \"53\":\"Thriller\",\n",
    "            \"10752\":\"War\",\n",
    "            \"37\":\"Western\"}"
   ]
  },
  {
   "cell_type": "code",
   "execution_count": 42,
   "metadata": {},
   "outputs": [],
   "source": [
    "\"\"\"\n",
    "Have around 1000 types of genres, in order to give a recommendation based on genres, will\n",
    "need to cap the genre's per id. Tried capping it to three, but still gave us 595 unique genres.\n",
    "Decided to cap it to two, which brings it down to 164 which is paletable for an analysis.\n",
    "\n",
    "The function below takes in the str, which is a list of genre ids, and converts it to a\n",
    "list of genre ids . Then once we have the list of ids it checks each id through the tmdb genre list\n",
    "and adds the genre name to a blank list. If the genre name is already there then it will not\n",
    "add it to the list again. The function then checks if the list of genre names is at two, and\n",
    "if so it returns the string version of the genre name list.\n",
    "\n",
    "Tested to make sure that genre names weren't coming out as double unique identifiers, ie\n",
    "'Drama'|'Comedy' and 'Comedy'|'Drama'.\n",
    "\n",
    "\"\"\"\n",
    "\n",
    "def genre_id_conv(genre_list):\n",
    "    genre_list = genre_list.replace('[','').replace(']','').split(sep=',')\n",
    "    genre_name = []\n",
    "    for key,val in tmdb_genres.items():\n",
    "        for genre_id in genre_list:\n",
    "            if key in genre_id:\n",
    "                if val not in genre_name and len(genre_name) < 2:\n",
    "                    genre_name.append(val)\n",
    "    return str(genre_name)\n",
    "\n",
    "tmdb['genre_names'] = tmdb['genre_ids'].map(genre_id_conv)"
   ]
  },
  {
   "cell_type": "code",
   "execution_count": 43,
   "metadata": {},
   "outputs": [
    {
     "data": {
      "text/html": [
       "<div>\n",
       "<style scoped>\n",
       "    .dataframe tbody tr th:only-of-type {\n",
       "        vertical-align: middle;\n",
       "    }\n",
       "\n",
       "    .dataframe tbody tr th {\n",
       "        vertical-align: top;\n",
       "    }\n",
       "\n",
       "    .dataframe thead th {\n",
       "        text-align: right;\n",
       "    }\n",
       "</style>\n",
       "<table border=\"1\" class=\"dataframe\">\n",
       "  <thead>\n",
       "    <tr style=\"text-align: right;\">\n",
       "      <th></th>\n",
       "      <th>id</th>\n",
       "      <th>popularity</th>\n",
       "      <th>vote_average</th>\n",
       "      <th>vote_count</th>\n",
       "    </tr>\n",
       "  </thead>\n",
       "  <tbody>\n",
       "    <tr>\n",
       "      <th>count</th>\n",
       "      <td>24038.000000</td>\n",
       "      <td>24038.000000</td>\n",
       "      <td>24038.000000</td>\n",
       "      <td>24038.000000</td>\n",
       "    </tr>\n",
       "    <tr>\n",
       "      <th>mean</th>\n",
       "      <td>292504.549671</td>\n",
       "      <td>3.375461</td>\n",
       "      <td>5.984208</td>\n",
       "      <td>214.047259</td>\n",
       "    </tr>\n",
       "    <tr>\n",
       "      <th>std</th>\n",
       "      <td>155419.517895</td>\n",
       "      <td>4.501957</td>\n",
       "      <td>1.780916</td>\n",
       "      <td>1007.213853</td>\n",
       "    </tr>\n",
       "    <tr>\n",
       "      <th>min</th>\n",
       "      <td>27.000000</td>\n",
       "      <td>0.600000</td>\n",
       "      <td>0.000000</td>\n",
       "      <td>1.000000</td>\n",
       "    </tr>\n",
       "    <tr>\n",
       "      <th>25%</th>\n",
       "      <td>148607.250000</td>\n",
       "      <td>0.635000</td>\n",
       "      <td>5.000000</td>\n",
       "      <td>2.000000</td>\n",
       "    </tr>\n",
       "    <tr>\n",
       "      <th>50%</th>\n",
       "      <td>307170.000000</td>\n",
       "      <td>1.494000</td>\n",
       "      <td>6.000000</td>\n",
       "      <td>6.000000</td>\n",
       "    </tr>\n",
       "    <tr>\n",
       "      <th>75%</th>\n",
       "      <td>419629.250000</td>\n",
       "      <td>4.424000</td>\n",
       "      <td>7.000000</td>\n",
       "      <td>34.000000</td>\n",
       "    </tr>\n",
       "    <tr>\n",
       "      <th>max</th>\n",
       "      <td>608079.000000</td>\n",
       "      <td>80.773000</td>\n",
       "      <td>10.000000</td>\n",
       "      <td>22186.000000</td>\n",
       "    </tr>\n",
       "  </tbody>\n",
       "</table>\n",
       "</div>"
      ],
      "text/plain": [
       "                  id    popularity  vote_average    vote_count\n",
       "count   24038.000000  24038.000000  24038.000000  24038.000000\n",
       "mean   292504.549671      3.375461      5.984208    214.047259\n",
       "std    155419.517895      4.501957      1.780916   1007.213853\n",
       "min        27.000000      0.600000      0.000000      1.000000\n",
       "25%    148607.250000      0.635000      5.000000      2.000000\n",
       "50%    307170.000000      1.494000      6.000000      6.000000\n",
       "75%    419629.250000      4.424000      7.000000     34.000000\n",
       "max    608079.000000     80.773000     10.000000  22186.000000"
      ]
     },
     "execution_count": 43,
     "metadata": {},
     "output_type": "execute_result"
    }
   ],
   "source": [
    "tmdb.describe()"
   ]
  },
  {
   "cell_type": "code",
   "execution_count": 44,
   "metadata": {},
   "outputs": [
    {
     "data": {
      "text/plain": [
       "'\\nWe decided to not use this data as our qualitative analysis has led us to believe that\\nRotten Tomatoes reviews are viewed as more important.\\n\\n'"
      ]
     },
     "execution_count": 44,
     "metadata": {},
     "output_type": "execute_result"
    }
   ],
   "source": [
    "\"\"\"\n",
    "We decided to not use this data as our qualitative analysis has led us to believe that\n",
    "Rotten Tomatoes reviews are viewed as more important.\n",
    "\n",
    "\"\"\""
   ]
  },
  {
   "cell_type": "markdown",
   "metadata": {},
   "source": [
    "<h2>Data Analysis"
   ]
  },
  {
   "cell_type": "code",
   "execution_count": 45,
   "metadata": {},
   "outputs": [
    {
     "data": {
      "image/png": "[encoded data removed]",
      "text/plain": [
       "<Figure size 864x576 with 1 Axes>"
      ]
     },
     "metadata": {
      "needs_background": "light"
     },
     "output_type": "display_data"
    }
   ],
   "source": [
    "fig, ax = plt.subplots(figsize=(12,8))\n",
    "\n",
    "labels = np.arange(1, 11, 1)\n",
    "\n",
    "small_size, medium_size, large_size, xlarge_size = 14, 18, 21, 25\n",
    "plt.rc('font', size=small_size)\n",
    "plt.rc('axes', titlesize=xlarge_size)\n",
    "plt.rc('axes', labelsize=large_size)\n",
    "plt.rc('xtick', labelsize=medium_size)\n",
    "plt.rc('ytick', labelsize=medium_size)\n",
    "plt.grid(color=\"#cccccc\")\n",
    "plt.xlim([0.75,10.25])\n",
    "ax.set_axisbelow(True)\n",
    "ax.set_facecolor(\"#efefef\")\n",
    "plt.ticklabel_format(style='plain')\n",
    "ax.yaxis.set_major_formatter(StrMethodFormatter('{x:,.0f}'))\n",
    "\n",
    "ax.scatter(prin_names_ratings.loc[prin_names_ratings['category'] == 'actor']['averagerating'],\n",
    "           prin_names_ratings.loc[prin_names_ratings['category'] == 'actor']['numvotes'], c=\"#11b0a7\")\n",
    "\n",
    "ax.set_xlabel(\"Average Rating for all Work\")\n",
    "ax.set_ylabel(\"Total number of votes\")\n",
    "ax.set_title(\"Average Rating vs. Total Number of Votes for Actors\")\n",
    "ax.set_xticks(labels);\n",
    "# plt.savefig('VotesVsRating.png', dpi=1000);"
   ]
  },
  {
   "cell_type": "code",
   "execution_count": 60,
   "metadata": {},
   "outputs": [
    {
     "data": {
      "image/png": "[encoded data removed]",
      "text/plain": [
       "<Figure size 1080x720 with 1 Axes>"
      ]
     },
     "metadata": {
      "needs_background": "light"
     },
     "output_type": "display_data"
    }
   ],
   "source": [
    "\"\"\"\n",
    "1st plot is a bar chart showing in descending order the top 20 studios based on lifetime\n",
    "return in usd.\n",
    "\n",
    "\"\"\"\n",
    "from matplotlib.ticker import StrMethodFormatter\n",
    "\n",
    "fig, ax = plt.subplots(figsize=(15,10))\n",
    "small_size, medium_size, large_size, xlarge_size = 14, 18, 21, 25\n",
    "plt.rc('font', size=small_size)\n",
    "plt.rc('axes', titlesize=xlarge_size)\n",
    "plt.rc('axes', labelsize=large_size)\n",
    "plt.rc('xtick', labelsize=medium_size)\n",
    "plt.rc('ytick', labelsize=medium_size)\n",
    "plt.ticklabel_format(style='plain')\n",
    "plt.grid(color=\"#cccccc\")\n",
    "ax.set_axisbelow(True)\n",
    "ax.set_facecolor(\"#efefef\")\n",
    "\n",
    "ax.bar(x=studio_usd_sort['studio'].head(15),height=studio_usd_sort['$_lifetime_return'].head(15), color=\"#11b0a7\")\n",
    "ax.set_xlabel('Movie Studios')\n",
    "ax.set_ylabel('USD Lifetime Return ($)')\n",
    "ax.set_title('Movie Studio Lifetime USD Return')\n",
    "ax.yaxis.set_major_formatter(StrMethodFormatter('{x:,.0f}'))\n",
    "plt.tight_layout\n",
    "plt.savefig('Movie_studio_usd.png', dpi=1000);"
   ]
  },
  {
   "cell_type": "code",
   "execution_count": 49,
   "metadata": {},
   "outputs": [
    {
     "data": {
      "text/plain": [
       "<function matplotlib.pyplot.tight_layout(*, pad=1.08, h_pad=None, w_pad=None, rect=None)>"
      ]
     },
     "execution_count": 49,
     "metadata": {},
     "output_type": "execute_result"
    },
    {
     "data": {
      "image/png": "[encoded data removed]",
      "text/plain": [
       "<Figure size 1080x720 with 1 Axes>"
      ]
     },
     "metadata": {
      "needs_background": "light"
     },
     "output_type": "display_data"
    }
   ],
   "source": [
    "\"\"\"\n",
    "2nd plot is a bar chart showing in descending order the top 20 studios based on lifetime\n",
    "return as a %.\n",
    "\"\"\"\n",
    "fig, ax = plt.subplots(figsize=(15,10))\n",
    "small_size, medium_size, large_size, xlarge_size = 14, 18, 21, 25\n",
    "plt.rc('font', size=small_size)\n",
    "plt.rc('axes', titlesize=xlarge_size)\n",
    "plt.rc('axes', labelsize=large_size)\n",
    "plt.rc('xtick', labelsize=medium_size)\n",
    "plt.rc('ytick', labelsize=medium_size)\n",
    "plt.grid(color=\"#cccccc\")\n",
    "ax.set_axisbelow(True)\n",
    "ax.set_facecolor(\"#efefef\")\n",
    "colors = [\"orange\" if i == \"A24\" else \"#11b0a7\" for i in studio_pct_sort['studio'].head(15)]\n",
    "\n",
    "ax.bar(x=studio_pct_sort['studio'].head(15),height=studio_pct_sort['%_lifetime_return'].head(15),color=colors)\n",
    "plt.gca().yaxis.set_major_formatter(mtick.PercentFormatter(xmax=1.0))\n",
    "ax.set_xlabel('Movie Studios')\n",
    "ax.set_ylabel('% Lifetime Return')\n",
    "ax.set_title('Movie Studio Lifetime % Return')\n",
    "plt.tight_layout\n",
    "# plt.savefig('Movie_studio_pct.png', dpi=1000);"
   ]
  },
  {
   "cell_type": "code",
   "execution_count": 59,
   "metadata": {},
   "outputs": [
    {
     "name": "stderr",
     "output_type": "stream",
     "text": [
      "<ipython-input-59-b03565180035>:18: UserWarning: FixedFormatter should only be used together with FixedLocator\n",
      "  ax.set_yticklabels(labels=for_Rt_genre_cutoff['genre'].head(10))\n"
     ]
    },
    {
     "data": {
      "text/plain": [
       "<function matplotlib.pyplot.tight_layout(*, pad=1.08, h_pad=None, w_pad=None, rect=None)>"
      ]
     },
     "execution_count": 59,
     "metadata": {},
     "output_type": "execute_result"
    },
    {
     "data": {
      "image/png": "[encoded data removed]",
      "text/plain": [
       "<Figure size 1080x720 with 1 Axes>"
      ]
     },
     "metadata": {
      "needs_background": "light"
     },
     "output_type": "display_data"
    }
   ],
   "source": [
    "#Plot\n",
    "import matplotlib.ticker as mtick\n",
    "fig, ax = plt.subplots(figsize=(15,10))\n",
    "small_size, medium_size, large_size, xlarge_size = 14, 18, 21, 25\n",
    "plt.rc('font', size=small_size)\n",
    "plt.rc('axes', titlesize=xlarge_size)\n",
    "plt.rc('axes', labelsize=large_size)\n",
    "plt.rc('xtick', labelsize=medium_size)\n",
    "plt.rc('ytick', labelsize=medium_size)\n",
    "plt.grid(color=\"#cccccc\")\n",
    "ax.set_axisbelow(True)\n",
    "ax.set_facecolor(\"#efefef\")\n",
    "colors = [\"orange\" if i == \"Drama\" or i ==\"Art House and International|Drama\" or i == \"Drama|Romance\"else \"#11b0a7\" for i in for_Rt_genre_cutoff['genre'].head(10)]\n",
    "\n",
    "# ax.bar(x=for_Rt_genre_cutoff['genre'].head(10),height=for_Rt_genre_cutoff['fresh_ratio_%'].head(10),color=colors)\n",
    "ax.barh(for_Rt_genre_cutoff['genre'].head(10), height=0.75, width=for_Rt_genre_cutoff['fresh_ratio_%'].head(10), color=colors)\n",
    "plt.gca().xaxis.set_major_formatter(mtick.PercentFormatter(xmax=1.0))\n",
    "ax.set_yticklabels(labels=for_Rt_genre_cutoff['genre'].head(10))\n",
    "ax.set_ylabel('Movie Genres')\n",
    "ax.set_xlabel('% Fresh to Rotten')\n",
    "ax.set_title(\"Relationship between Fresh to Rotten Ratio and Genres\")\n",
    "plt.tight_layout\n",
    "plt.savefig('Rt_fresh_rot.png', dpi=1000)"
   ]
  },
  {
   "cell_type": "markdown",
   "metadata": {},
   "source": [
    "<h2> Conclusions"
   ]
  },
  {
   "cell_type": "markdown",
   "metadata": {},
   "source": [
    "Casting\n",
    "- Hire Cast & Crew with most popular history, as this will give the film potential access to more viewers by attracting the artists fan base.\n",
    "\n",
    "Genres\n",
    "- Make Dramas and Drama variants, as they appear to be viewed as favorably popular by reviewers.\n",
    "\n",
    "Acquisitions\n",
    "- Consider acquiring A24 to jumpstart production, they already have a great catalogue of movies and deep seeded relationships in the industry.\n",
    "\n",
    "\n",
    "Using big names will enable us to enter the industry with a bang, ensuring our studio is known as a place where great films are made. Gathering praise from insiders and viewers alike."
   ]
  }
 ],
 "metadata": {
  "kernelspec": {
   "display_name": "Python (learn-env)",
   "language": "python",
   "name": "learn-env"
  },
  "language_info": {
   "codemirror_mode": {
    "name": "ipython",
    "version": 3
   },
   "file_extension": ".py",
   "mimetype": "text/x-python",
   "name": "python",
   "nbconvert_exporter": "python",
   "pygments_lexer": "ipython3",
   "version": "3.8.5"
  }
 },
 "nbformat": 4,
 "nbformat_minor": 4
}
