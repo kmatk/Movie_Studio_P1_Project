{
 "cells": [
  {
   "cell_type": "code",
   "execution_count": 1,
   "metadata": {},
   "outputs": [],
   "source": [
    "import pandas as pd\n",
    "import numpy as np\n",
    "from matplotlib import pyplot as plt\n",
    "%matplotlib inline"
   ]
  },
  {
   "cell_type": "markdown",
   "metadata": {},
   "source": [
    "# 1. Loading and cleaning bom.movie_gross"
   ]
  },
  {
   "cell_type": "code",
   "execution_count": 2,
   "metadata": {},
   "outputs": [],
   "source": [
    "Bom = pd.read_csv(\"Data/bom.movie_gross.csv\")"
   ]
  },
  {
   "cell_type": "code",
   "execution_count": 3,
   "metadata": {},
   "outputs": [
    {
     "name": "stdout",
     "output_type": "stream",
     "text": [
      "<class 'pandas.core.frame.DataFrame'>\n",
      "RangeIndex: 3387 entries, 0 to 3386\n",
      "Data columns (total 5 columns):\n",
      " #   Column          Non-Null Count  Dtype  \n",
      "---  ------          --------------  -----  \n",
      " 0   title           3387 non-null   object \n",
      " 1   studio          3382 non-null   object \n",
      " 2   domestic_gross  3359 non-null   float64\n",
      " 3   foreign_gross   2037 non-null   object \n",
      " 4   year            3387 non-null   int64  \n",
      "dtypes: float64(1), int64(1), object(3)\n",
      "memory usage: 132.4+ KB\n"
     ]
    },
    {
     "data": {
      "text/plain": [
       "title                0\n",
       "studio               5\n",
       "domestic_gross      28\n",
       "foreign_gross     1350\n",
       "year                 0\n",
       "dtype: int64"
      ]
     },
     "execution_count": 3,
     "metadata": {},
     "output_type": "execute_result"
    }
   ],
   "source": [
    "Bom.head()\n",
    "Bom.info()\n",
    "Bom.isna().sum()"
   ]
  },
  {
   "cell_type": "markdown",
   "metadata": {},
   "source": [
    "# Comments on values for BOM Movie Gross\n",
    "\n",
    "- 5 missing values in studio. Will remove, since they're only 5 out of 3387.\n",
    "- 28 missing values in domestic gross, will turn them all to 0. All str, will have to convert them to float, once all null's have been replaced with 0. Inspected them to make sure they were just foreign films.\n",
    "- 1350 missing values in foreign gross (turn to 0), will turn them all to 0. All str, will have to convert them to float, once all null's have been replaced with 0. Domestic films that didn't have foreign gross. One has a comma, so have to take it out to normalize data."
   ]
  },
  {
   "cell_type": "code",
   "execution_count": 4,
   "metadata": {},
   "outputs": [],
   "source": [
    "Bom['foreign_gross'] = Bom['foreign_gross'].str.replace(',','')\n",
    "Bom['foreign_gross'] = Bom['foreign_gross'].astype(float)\n",
    "Bom['foreign_gross'] = Bom['foreign_gross'].fillna(0)\n",
    "Bom['domestic_gross'] = Bom['domestic_gross'].fillna(0)\n",
    "Bom = Bom.dropna(subset = ['studio'])"
   ]
  },
  {
   "cell_type": "code",
   "execution_count": 5,
   "metadata": {},
   "outputs": [
    {
     "name": "stderr",
     "output_type": "stream",
     "text": [
      "<ipython-input-5-0b25a2badd8a>:2: SettingWithCopyWarning: \n",
      "A value is trying to be set on a copy of a slice from a DataFrame.\n",
      "Try using .loc[row_indexer,col_indexer] = value instead\n",
      "\n",
      "See the caveats in the documentation: https://pandas.pydata.org/pandas-docs/stable/user_guide/indexing.html#returning-a-view-versus-a-copy\n",
      "  Bom['total_gross'] = Bom['domestic_gross'] + Bom['foreign_gross']\n"
     ]
    }
   ],
   "source": [
    "# Will create a new column, total_gross, to be able to compare the aggregate gross down the line.\n",
    "Bom['total_gross'] = Bom['domestic_gross'] + Bom['foreign_gross']"
   ]
  },
  {
   "cell_type": "code",
   "execution_count": 11,
   "metadata": {},
   "outputs": [
    {
     "name": "stderr",
     "output_type": "stream",
     "text": [
      "/Users/vladiseki/opt/anaconda3/envs/learn-env/lib/python3.8/site-packages/pandas/core/frame.py:4296: SettingWithCopyWarning: \n",
      "A value is trying to be set on a copy of a slice from a DataFrame\n",
      "\n",
      "See the caveats in the documentation: https://pandas.pydata.org/pandas-docs/stable/user_guide/indexing.html#returning-a-view-versus-a-copy\n",
      "  return super().rename(\n"
     ]
    }
   ],
   "source": [
    "#Upon trying to join Bom dataframe with the budgets dataframe, we realized that we should\n",
    "#change one of the 'domestic_gross' column name to be able to differentiate.b\n",
    "Bom.rename(columns={'domestic_gross':'domestic_gross_bom'},inplace=True)"
   ]
  },
  {
   "cell_type": "code",
   "execution_count": 7,
   "metadata": {},
   "outputs": [
    {
     "data": {
      "text/plain": [
       "'\\nThe above function takes in a string, in this case a movie title, and returns true if that\\nstring is in the provided Bom movie title list.\\n\\n'"
      ]
     },
     "execution_count": 7,
     "metadata": {},
     "output_type": "execute_result"
    }
   ],
   "source": [
    "Bom_titles = list(Bom['title'])\n",
    "\"\"\"\n",
    "We realized that in order to be able to give any sort of business advice we'd need to see\n",
    "what these movies cost to make. Even though the budgets table has domestic and worldwide\n",
    "gross, it does not have the studio that makes them. \n",
    "\n",
    "We will do a left join on the budgets dataframe with the movie titles as the overlap\n",
    "column. In order to see which movie titles are in both dataframes we are creating a new \n",
    "column in budgets that returns True if the movie title overlaps. This is why\n",
    "the above variable was created.\n",
    "\n",
    "This overlap will allow us to dig deeper into what the investment return metrics for a succesful\n",
    "movie studio look like. \n",
    "\n",
    "\"\"\"\n",
    "def compare_title(title):\n",
    "    if title in Bom_titles:\n",
    "        return True\n",
    "    else:\n",
    "        return False\n",
    "    \n",
    "\"\"\"\n",
    "The above function takes in a string, in this case a movie title, and returns true if that\n",
    "string is in the provided Bom movie title list.\n",
    "\n",
    "\"\"\""
   ]
  },
  {
   "cell_type": "code",
   "execution_count": 8,
   "metadata": {},
   "outputs": [],
   "source": [
    "budgets = pd.read_csv('data/cleaned/tn.movie_budgets_clean.csv')\n",
    "budgets['Bom'] = budgets['movie'].map(compare_title)"
   ]
  },
  {
   "cell_type": "code",
   "execution_count": 10,
   "metadata": {},
   "outputs": [
    {
     "data": {
      "text/html": [
       "<div>\n",
       "<style scoped>\n",
       "    .dataframe tbody tr th:only-of-type {\n",
       "        vertical-align: middle;\n",
       "    }\n",
       "\n",
       "    .dataframe tbody tr th {\n",
       "        vertical-align: top;\n",
       "    }\n",
       "\n",
       "    .dataframe thead th {\n",
       "        text-align: right;\n",
       "    }\n",
       "</style>\n",
       "<table border=\"1\" class=\"dataframe\">\n",
       "  <thead>\n",
       "    <tr style=\"text-align: right;\">\n",
       "      <th></th>\n",
       "      <th>Unnamed: 0</th>\n",
       "      <th>id</th>\n",
       "      <th>release_date</th>\n",
       "      <th>movie</th>\n",
       "      <th>production_budget</th>\n",
       "      <th>domestic_gross</th>\n",
       "      <th>worldwide_gross</th>\n",
       "      <th>Bom</th>\n",
       "    </tr>\n",
       "  </thead>\n",
       "  <tbody>\n",
       "    <tr>\n",
       "      <th>0</th>\n",
       "      <td>0</td>\n",
       "      <td>1</td>\n",
       "      <td>2009-12-18</td>\n",
       "      <td>Avatar</td>\n",
       "      <td>425000000</td>\n",
       "      <td>760507625</td>\n",
       "      <td>2776345279</td>\n",
       "      <td>False</td>\n",
       "    </tr>\n",
       "    <tr>\n",
       "      <th>1</th>\n",
       "      <td>1</td>\n",
       "      <td>2</td>\n",
       "      <td>2011-05-20</td>\n",
       "      <td>Pirates of the Caribbean: On Stranger Tides</td>\n",
       "      <td>410600000</td>\n",
       "      <td>241063875</td>\n",
       "      <td>1045663875</td>\n",
       "      <td>True</td>\n",
       "    </tr>\n",
       "    <tr>\n",
       "      <th>2</th>\n",
       "      <td>2</td>\n",
       "      <td>3</td>\n",
       "      <td>2019-06-07</td>\n",
       "      <td>Dark Phoenix</td>\n",
       "      <td>350000000</td>\n",
       "      <td>42762350</td>\n",
       "      <td>149762350</td>\n",
       "      <td>False</td>\n",
       "    </tr>\n",
       "    <tr>\n",
       "      <th>3</th>\n",
       "      <td>3</td>\n",
       "      <td>4</td>\n",
       "      <td>2015-05-01</td>\n",
       "      <td>Avengers: Age of Ultron</td>\n",
       "      <td>330600000</td>\n",
       "      <td>459005868</td>\n",
       "      <td>1403013963</td>\n",
       "      <td>True</td>\n",
       "    </tr>\n",
       "    <tr>\n",
       "      <th>4</th>\n",
       "      <td>4</td>\n",
       "      <td>5</td>\n",
       "      <td>2017-12-15</td>\n",
       "      <td>Star Wars Ep. VIII: The Last Jedi</td>\n",
       "      <td>317000000</td>\n",
       "      <td>620181382</td>\n",
       "      <td>1316721747</td>\n",
       "      <td>False</td>\n",
       "    </tr>\n",
       "  </tbody>\n",
       "</table>\n",
       "</div>"
      ],
      "text/plain": [
       "   Unnamed: 0  id release_date                                        movie  \\\n",
       "0           0   1   2009-12-18                                       Avatar   \n",
       "1           1   2   2011-05-20  Pirates of the Caribbean: On Stranger Tides   \n",
       "2           2   3   2019-06-07                                 Dark Phoenix   \n",
       "3           3   4   2015-05-01                      Avengers: Age of Ultron   \n",
       "4           4   5   2017-12-15            Star Wars Ep. VIII: The Last Jedi   \n",
       "\n",
       "   production_budget  domestic_gross  worldwide_gross    Bom  \n",
       "0          425000000       760507625       2776345279  False  \n",
       "1          410600000       241063875       1045663875   True  \n",
       "2          350000000        42762350        149762350  False  \n",
       "3          330600000       459005868       1403013963   True  \n",
       "4          317000000       620181382       1316721747  False  "
      ]
     },
     "execution_count": 10,
     "metadata": {},
     "output_type": "execute_result"
    }
   ],
   "source": [
    "budgets.head()"
   ]
  },
  {
   "cell_type": "markdown",
   "metadata": {},
   "source": [
    "# 1.5 Left join bom to budgets"
   ]
  },
  {
   "cell_type": "code",
   "execution_count": 12,
   "metadata": {
    "scrolled": false
   },
   "outputs": [
    {
     "data": {
      "text/html": [
       "<div>\n",
       "<style scoped>\n",
       "    .dataframe tbody tr th:only-of-type {\n",
       "        vertical-align: middle;\n",
       "    }\n",
       "\n",
       "    .dataframe tbody tr th {\n",
       "        vertical-align: top;\n",
       "    }\n",
       "\n",
       "    .dataframe thead th {\n",
       "        text-align: right;\n",
       "    }\n",
       "</style>\n",
       "<table border=\"1\" class=\"dataframe\">\n",
       "  <thead>\n",
       "    <tr style=\"text-align: right;\">\n",
       "      <th></th>\n",
       "      <th>Unnamed: 0</th>\n",
       "      <th>id</th>\n",
       "      <th>release_date</th>\n",
       "      <th>movie</th>\n",
       "      <th>production_budget</th>\n",
       "      <th>domestic_gross</th>\n",
       "      <th>worldwide_gross</th>\n",
       "      <th>Bom</th>\n",
       "      <th>studio</th>\n",
       "      <th>domestic_gross_bom</th>\n",
       "      <th>foreign_gross</th>\n",
       "      <th>year</th>\n",
       "      <th>total_gross</th>\n",
       "    </tr>\n",
       "  </thead>\n",
       "  <tbody>\n",
       "    <tr>\n",
       "      <th>1</th>\n",
       "      <td>1</td>\n",
       "      <td>2</td>\n",
       "      <td>2011-05-20</td>\n",
       "      <td>Pirates of the Caribbean: On Stranger Tides</td>\n",
       "      <td>410600000</td>\n",
       "      <td>241063875</td>\n",
       "      <td>1045663875</td>\n",
       "      <td>True</td>\n",
       "      <td>BV</td>\n",
       "      <td>241100000.0</td>\n",
       "      <td>804600000.0</td>\n",
       "      <td>2011.0</td>\n",
       "      <td>1.045700e+09</td>\n",
       "    </tr>\n",
       "    <tr>\n",
       "      <th>3</th>\n",
       "      <td>3</td>\n",
       "      <td>4</td>\n",
       "      <td>2015-05-01</td>\n",
       "      <td>Avengers: Age of Ultron</td>\n",
       "      <td>330600000</td>\n",
       "      <td>459005868</td>\n",
       "      <td>1403013963</td>\n",
       "      <td>True</td>\n",
       "      <td>BV</td>\n",
       "      <td>459000000.0</td>\n",
       "      <td>946400000.0</td>\n",
       "      <td>2015.0</td>\n",
       "      <td>1.405400e+09</td>\n",
       "    </tr>\n",
       "    <tr>\n",
       "      <th>6</th>\n",
       "      <td>6</td>\n",
       "      <td>7</td>\n",
       "      <td>2018-04-27</td>\n",
       "      <td>Avengers: Infinity War</td>\n",
       "      <td>300000000</td>\n",
       "      <td>678815482</td>\n",
       "      <td>2048134200</td>\n",
       "      <td>True</td>\n",
       "      <td>BV</td>\n",
       "      <td>678800000.0</td>\n",
       "      <td>1369.5</td>\n",
       "      <td>2018.0</td>\n",
       "      <td>6.788014e+08</td>\n",
       "    </tr>\n",
       "    <tr>\n",
       "      <th>8</th>\n",
       "      <td>8</td>\n",
       "      <td>9</td>\n",
       "      <td>2017-11-17</td>\n",
       "      <td>Justice League</td>\n",
       "      <td>300000000</td>\n",
       "      <td>229024295</td>\n",
       "      <td>655945209</td>\n",
       "      <td>True</td>\n",
       "      <td>WB</td>\n",
       "      <td>229000000.0</td>\n",
       "      <td>428900000.0</td>\n",
       "      <td>2017.0</td>\n",
       "      <td>6.579000e+08</td>\n",
       "    </tr>\n",
       "    <tr>\n",
       "      <th>9</th>\n",
       "      <td>9</td>\n",
       "      <td>10</td>\n",
       "      <td>2015-11-06</td>\n",
       "      <td>Spectre</td>\n",
       "      <td>300000000</td>\n",
       "      <td>200074175</td>\n",
       "      <td>879620923</td>\n",
       "      <td>True</td>\n",
       "      <td>Sony</td>\n",
       "      <td>200100000.0</td>\n",
       "      <td>680600000.0</td>\n",
       "      <td>2015.0</td>\n",
       "      <td>8.807000e+08</td>\n",
       "    </tr>\n",
       "    <tr>\n",
       "      <th>...</th>\n",
       "      <td>...</td>\n",
       "      <td>...</td>\n",
       "      <td>...</td>\n",
       "      <td>...</td>\n",
       "      <td>...</td>\n",
       "      <td>...</td>\n",
       "      <td>...</td>\n",
       "      <td>...</td>\n",
       "      <td>...</td>\n",
       "      <td>...</td>\n",
       "      <td>...</td>\n",
       "      <td>...</td>\n",
       "      <td>...</td>\n",
       "    </tr>\n",
       "    <tr>\n",
       "      <th>5667</th>\n",
       "      <td>5667</td>\n",
       "      <td>68</td>\n",
       "      <td>2012-04-27</td>\n",
       "      <td>Sound of My Voice</td>\n",
       "      <td>135000</td>\n",
       "      <td>408015</td>\n",
       "      <td>429448</td>\n",
       "      <td>True</td>\n",
       "      <td>FoxS</td>\n",
       "      <td>408000.0</td>\n",
       "      <td>0.0</td>\n",
       "      <td>2012.0</td>\n",
       "      <td>4.080000e+05</td>\n",
       "    </tr>\n",
       "    <tr>\n",
       "      <th>5672</th>\n",
       "      <td>5672</td>\n",
       "      <td>73</td>\n",
       "      <td>2012-06-15</td>\n",
       "      <td>Your Sister's Sister</td>\n",
       "      <td>120000</td>\n",
       "      <td>1597486</td>\n",
       "      <td>3090593</td>\n",
       "      <td>True</td>\n",
       "      <td>IFC</td>\n",
       "      <td>1600000.0</td>\n",
       "      <td>0.0</td>\n",
       "      <td>2012.0</td>\n",
       "      <td>1.600000e+06</td>\n",
       "    </tr>\n",
       "    <tr>\n",
       "      <th>5679</th>\n",
       "      <td>5679</td>\n",
       "      <td>80</td>\n",
       "      <td>2015-07-10</td>\n",
       "      <td>The Gallows</td>\n",
       "      <td>100000</td>\n",
       "      <td>22764410</td>\n",
       "      <td>41656474</td>\n",
       "      <td>True</td>\n",
       "      <td>WB (NL)</td>\n",
       "      <td>22800000.0</td>\n",
       "      <td>20200000.0</td>\n",
       "      <td>2015.0</td>\n",
       "      <td>4.300000e+07</td>\n",
       "    </tr>\n",
       "    <tr>\n",
       "      <th>5685</th>\n",
       "      <td>5685</td>\n",
       "      <td>86</td>\n",
       "      <td>2017-07-07</td>\n",
       "      <td>A Ghost Story</td>\n",
       "      <td>100000</td>\n",
       "      <td>1594798</td>\n",
       "      <td>2769782</td>\n",
       "      <td>True</td>\n",
       "      <td>A24</td>\n",
       "      <td>1600000.0</td>\n",
       "      <td>0.0</td>\n",
       "      <td>2017.0</td>\n",
       "      <td>1.600000e+06</td>\n",
       "    </tr>\n",
       "    <tr>\n",
       "      <th>5717</th>\n",
       "      <td>5717</td>\n",
       "      <td>18</td>\n",
       "      <td>2010-11-12</td>\n",
       "      <td>Tiny Furniture</td>\n",
       "      <td>50000</td>\n",
       "      <td>391674</td>\n",
       "      <td>424149</td>\n",
       "      <td>True</td>\n",
       "      <td>IFC</td>\n",
       "      <td>392000.0</td>\n",
       "      <td>0.0</td>\n",
       "      <td>2010.0</td>\n",
       "      <td>3.920000e+05</td>\n",
       "    </tr>\n",
       "  </tbody>\n",
       "</table>\n",
       "<p>1246 rows × 13 columns</p>\n",
       "</div>"
      ],
      "text/plain": [
       "      Unnamed: 0  id release_date  \\\n",
       "1              1   2   2011-05-20   \n",
       "3              3   4   2015-05-01   \n",
       "6              6   7   2018-04-27   \n",
       "8              8   9   2017-11-17   \n",
       "9              9  10   2015-11-06   \n",
       "...          ...  ..          ...   \n",
       "5667        5667  68   2012-04-27   \n",
       "5672        5672  73   2012-06-15   \n",
       "5679        5679  80   2015-07-10   \n",
       "5685        5685  86   2017-07-07   \n",
       "5717        5717  18   2010-11-12   \n",
       "\n",
       "                                            movie  production_budget  \\\n",
       "1     Pirates of the Caribbean: On Stranger Tides          410600000   \n",
       "3                         Avengers: Age of Ultron          330600000   \n",
       "6                          Avengers: Infinity War          300000000   \n",
       "8                                  Justice League          300000000   \n",
       "9                                         Spectre          300000000   \n",
       "...                                           ...                ...   \n",
       "5667                            Sound of My Voice             135000   \n",
       "5672                         Your Sister's Sister             120000   \n",
       "5679                                  The Gallows             100000   \n",
       "5685                                A Ghost Story             100000   \n",
       "5717                               Tiny Furniture              50000   \n",
       "\n",
       "      domestic_gross  worldwide_gross   Bom   studio  domestic_gross_bom  \\\n",
       "1          241063875       1045663875  True       BV         241100000.0   \n",
       "3          459005868       1403013963  True       BV         459000000.0   \n",
       "6          678815482       2048134200  True       BV         678800000.0   \n",
       "8          229024295        655945209  True       WB         229000000.0   \n",
       "9          200074175        879620923  True     Sony         200100000.0   \n",
       "...              ...              ...   ...      ...                 ...   \n",
       "5667          408015           429448  True     FoxS            408000.0   \n",
       "5672         1597486          3090593  True      IFC           1600000.0   \n",
       "5679        22764410         41656474  True  WB (NL)          22800000.0   \n",
       "5685         1594798          2769782  True      A24           1600000.0   \n",
       "5717          391674           424149  True      IFC            392000.0   \n",
       "\n",
       "      foreign_gross    year   total_gross  \n",
       "1       804600000.0  2011.0  1.045700e+09  \n",
       "3       946400000.0  2015.0  1.405400e+09  \n",
       "6            1369.5  2018.0  6.788014e+08  \n",
       "8       428900000.0  2017.0  6.579000e+08  \n",
       "9       680600000.0  2015.0  8.807000e+08  \n",
       "...             ...     ...           ...  \n",
       "5667            0.0  2012.0  4.080000e+05  \n",
       "5672            0.0  2012.0  1.600000e+06  \n",
       "5679     20200000.0  2015.0  4.300000e+07  \n",
       "5685            0.0  2017.0  1.600000e+06  \n",
       "5717            0.0  2010.0  3.920000e+05  \n",
       "\n",
       "[1246 rows x 13 columns]"
      ]
     },
     "execution_count": 12,
     "metadata": {},
     "output_type": "execute_result"
    }
   ],
   "source": [
    "Bom_budg_ljn_on_title = budgets.join(Bom.set_index(['title']), on=['movie'])\n",
    "\"\"\"\n",
    "Below we're taking a look at all the movies that overlap in bom and budgets, and have a non\n",
    "null value in the studio column.\n",
    "\"\"\"\n",
    "Bom_budg_ljn_on_title.loc[(Bom_budg_ljn_on_title['Bom']== True) & (Bom_budg_ljn_on_title['studio'] != Bom_budg_ljn_on_title['studio'].isna())]"
   ]
  },
  {
   "cell_type": "code",
   "execution_count": 26,
   "metadata": {},
   "outputs": [
    {
     "data": {
      "text/html": [
       "<div>\n",
       "<style scoped>\n",
       "    .dataframe tbody tr th:only-of-type {\n",
       "        vertical-align: middle;\n",
       "    }\n",
       "\n",
       "    .dataframe tbody tr th {\n",
       "        vertical-align: top;\n",
       "    }\n",
       "\n",
       "    .dataframe thead th {\n",
       "        text-align: right;\n",
       "    }\n",
       "</style>\n",
       "<table border=\"1\" class=\"dataframe\">\n",
       "  <thead>\n",
       "    <tr style=\"text-align: right;\">\n",
       "      <th></th>\n",
       "      <th>worldwide_gross</th>\n",
       "      <th>total_production_budget</th>\n",
       "      <th>$_lifetime_return</th>\n",
       "      <th>%_lifetime_return</th>\n",
       "      <th>#_of_films</th>\n",
       "    </tr>\n",
       "  </thead>\n",
       "  <tbody>\n",
       "    <tr>\n",
       "      <th>count</th>\n",
       "      <td>9.900000e+01</td>\n",
       "      <td>9.900000e+01</td>\n",
       "      <td>9.900000e+01</td>\n",
       "      <td>99.000000</td>\n",
       "      <td>99.000000</td>\n",
       "    </tr>\n",
       "    <tr>\n",
       "      <th>mean</th>\n",
       "      <td>1.916135e+09</td>\n",
       "      <td>5.918551e+08</td>\n",
       "      <td>1.324280e+09</td>\n",
       "      <td>1.003176</td>\n",
       "      <td>12.585859</td>\n",
       "    </tr>\n",
       "    <tr>\n",
       "      <th>std</th>\n",
       "      <td>5.905648e+09</td>\n",
       "      <td>1.724612e+09</td>\n",
       "      <td>4.205917e+09</td>\n",
       "      <td>2.154181</td>\n",
       "      <td>23.758998</td>\n",
       "    </tr>\n",
       "    <tr>\n",
       "      <th>min</th>\n",
       "      <td>7.943000e+03</td>\n",
       "      <td>4.000000e+05</td>\n",
       "      <td>-9.009679e+07</td>\n",
       "      <td>-0.994725</td>\n",
       "      <td>1.000000</td>\n",
       "    </tr>\n",
       "    <tr>\n",
       "      <th>25%</th>\n",
       "      <td>5.686178e+06</td>\n",
       "      <td>8.650000e+06</td>\n",
       "      <td>-5.256492e+06</td>\n",
       "      <td>-0.499748</td>\n",
       "      <td>1.000000</td>\n",
       "    </tr>\n",
       "    <tr>\n",
       "      <th>50%</th>\n",
       "      <td>3.899229e+07</td>\n",
       "      <td>3.700000e+07</td>\n",
       "      <td>7.955193e+06</td>\n",
       "      <td>0.430914</td>\n",
       "      <td>2.000000</td>\n",
       "    </tr>\n",
       "    <tr>\n",
       "      <th>75%</th>\n",
       "      <td>3.925437e+08</td>\n",
       "      <td>1.716600e+08</td>\n",
       "      <td>2.452042e+08</td>\n",
       "      <td>2.094872</td>\n",
       "      <td>10.000000</td>\n",
       "    </tr>\n",
       "    <tr>\n",
       "      <th>max</th>\n",
       "      <td>3.328602e+10</td>\n",
       "      <td>9.450800e+09</td>\n",
       "      <td>2.383522e+10</td>\n",
       "      <td>13.319383</td>\n",
       "      <td>117.000000</td>\n",
       "    </tr>\n",
       "  </tbody>\n",
       "</table>\n",
       "</div>"
      ],
      "text/plain": [
       "       worldwide_gross  total_production_budget  $_lifetime_return  \\\n",
       "count     9.900000e+01             9.900000e+01       9.900000e+01   \n",
       "mean      1.916135e+09             5.918551e+08       1.324280e+09   \n",
       "std       5.905648e+09             1.724612e+09       4.205917e+09   \n",
       "min       7.943000e+03             4.000000e+05      -9.009679e+07   \n",
       "25%       5.686178e+06             8.650000e+06      -5.256492e+06   \n",
       "50%       3.899229e+07             3.700000e+07       7.955193e+06   \n",
       "75%       3.925437e+08             1.716600e+08       2.452042e+08   \n",
       "max       3.328602e+10             9.450800e+09       2.383522e+10   \n",
       "\n",
       "       %_lifetime_return  #_of_films  \n",
       "count          99.000000   99.000000  \n",
       "mean            1.003176   12.585859  \n",
       "std             2.154181   23.758998  \n",
       "min            -0.994725    1.000000  \n",
       "25%            -0.499748    1.000000  \n",
       "50%             0.430914    2.000000  \n",
       "75%             2.094872   10.000000  \n",
       "max            13.319383  117.000000  "
      ]
     },
     "execution_count": 26,
     "metadata": {},
     "output_type": "execute_result"
    }
   ],
   "source": [
    "\"\"\"\n",
    "Creating a separate dataframe to analyze each studio's worldwide total gross in usd, \n",
    "total production budget in usd, lifetime return in usd (which is calculated via\n",
    "'worldwide total gross' - 'total production budget'), lifetime return as a % (which is\n",
    "calculated via (('worldwide total gross' / 'total production budget')-1)), and the total\n",
    "number of films per studio that these return metrics are based off of. Which in some cases\n",
    "may be a very small sample of the total catalogue that studio has.\n",
    "\n",
    "\"\"\"\n",
    "studio_gross = Bom_budg_ljn_on_title.groupby('studio')['worldwide_gross'].sum().astype('int64')\n",
    "studio_gross = pd.DataFrame(studio_gross)\n",
    "studio_gross['total_production_budget'] = Bom_budg_ljn_on_title.groupby('studio')['production_budget'].sum().astype('int64')\n",
    "studio_gross['$_lifetime_return'] = studio_gross['worldwide_gross'] - studio_gross['total_production_budget']\n",
    "studio_gross['%_lifetime_return'] = (studio_gross['worldwide_gross']/studio_gross['total_production_budget']) - 1\n",
    "studio_gross['#_of_films'] = Bom_budg_ljn_on_title.groupby('studio')['Bom'].sum().astype('int64')\n",
    "studio_gross.reset_index(inplace=True)\n",
    "studio_gross.describe()"
   ]
  },
  {
   "cell_type": "code",
   "execution_count": 27,
   "metadata": {},
   "outputs": [],
   "source": [
    "\"\"\"\n",
    "There appears to only be 1,246 movies that overlap. Want to see mean, median, and 75% IQR\n",
    "for all values. Upon review, in order to give a recommendation on a studio we'll need to\n",
    "narrow down our search to studios that have at least produced more than 10 (75% IQR) or\n",
    "12 movies (mean). This will be our cutoff, so that we can't recommend a one hit wonder\n",
    "studio or so to speak.\n",
    "\"\"\"\n",
    "studio_gross.loc[studio_gross['#_of_films'] > 10].sort_values('#_of_films',ascending=False)\n",
    "studio_usd_sort = studio_gross.sort_values('$_lifetime_return',ascending=False)\n",
    "studio_pct_sort = studio_gross.loc[studio_gross['#_of_films'] > 10].sort_values('%_lifetime_return',ascending=False)"
   ]
  },
  {
   "cell_type": "code",
   "execution_count": 28,
   "metadata": {},
   "outputs": [
    {
     "data": {
      "text/plain": [
       "''"
      ]
     },
     "execution_count": 28,
     "metadata": {},
     "output_type": "execute_result"
    },
    {
     "data": {
      "image/png": "[encoded data removed]",
      "text/plain": [
       "<Figure size 1080x432 with 1 Axes>"
      ]
     },
     "metadata": {
      "needs_background": "light"
     },
     "output_type": "display_data"
    },
    {
     "data": {
      "image/png": "[encoded data removed]",
      "text/plain": [
       "<Figure size 1080x432 with 1 Axes>"
      ]
     },
     "metadata": {
      "needs_background": "light"
     },
     "output_type": "display_data"
    }
   ],
   "source": [
    "\"\"\"\n",
    "1st plot is a bar chart showing in descending order the top 20 studios based on lifetime\n",
    "return in usd.\n",
    "\n",
    "2nd plot is a bar chart showing in descending order the top 20 studios based on lifetime\n",
    "return as a %.\n",
    "\n",
    "3rd chart for exploratory purposes could be a scatter plot with number of movies and returns\n",
    "\n",
    "\"\"\"\n",
    "fig, ax = plt.subplots(figsize=(15,6))\n",
    "ax.bar(x=studio_usd_sort['studio'].head(20),height=studio_usd_sort['$_lifetime_return'].head(20))\n",
    "\n",
    "fig, ax = plt.subplots(figsize=(15,6))\n",
    "ax.bar(x=studio_pct_sort['studio'].head(20),height=studio_pct_sort['%_lifetime_return'].head(20));\n",
    ";"
   ]
  },
  {
   "cell_type": "markdown",
   "metadata": {},
   "source": [
    "# 2. Loading in and cleaning RT movie info"
   ]
  },
  {
   "cell_type": "code",
   "execution_count": 29,
   "metadata": {},
   "outputs": [],
   "source": [
    "Rt = pd.read_csv('Data/rt.movie_info.tsv',sep = '\\t')"
   ]
  },
  {
   "cell_type": "code",
   "execution_count": 30,
   "metadata": {},
   "outputs": [
    {
     "name": "stdout",
     "output_type": "stream",
     "text": [
      "<class 'pandas.core.frame.DataFrame'>\n",
      "RangeIndex: 1560 entries, 0 to 1559\n",
      "Data columns (total 12 columns):\n",
      " #   Column        Non-Null Count  Dtype \n",
      "---  ------        --------------  ----- \n",
      " 0   id            1560 non-null   int64 \n",
      " 1   synopsis      1498 non-null   object\n",
      " 2   rating        1557 non-null   object\n",
      " 3   genre         1552 non-null   object\n",
      " 4   director      1361 non-null   object\n",
      " 5   writer        1111 non-null   object\n",
      " 6   theater_date  1201 non-null   object\n",
      " 7   dvd_date      1201 non-null   object\n",
      " 8   currency      340 non-null    object\n",
      " 9   box_office    340 non-null    object\n",
      " 10  runtime       1530 non-null   object\n",
      " 11  studio        494 non-null    object\n",
      "dtypes: int64(1), object(11)\n",
      "memory usage: 146.4+ KB\n"
     ]
    },
    {
     "data": {
      "text/plain": [
       "id                 0\n",
       "synopsis          62\n",
       "rating             3\n",
       "genre              8\n",
       "director         199\n",
       "writer           449\n",
       "theater_date     359\n",
       "dvd_date         359\n",
       "currency        1220\n",
       "box_office      1220\n",
       "runtime           30\n",
       "studio          1066\n",
       "dtype: int64"
      ]
     },
     "execution_count": 30,
     "metadata": {},
     "output_type": "execute_result"
    }
   ],
   "source": [
    "Rt.head()\n",
    "Rt.info()\n",
    "Rt.isna().sum()"
   ]
  },
  {
   "cell_type": "markdown",
   "metadata": {},
   "source": [
    "# Missing data comments\n",
    "- synopsis, only missing 62 entries\n",
    "- rating missing 3 entries. After review of the rows, they will not add anything to the analysis, so we'll remove them.\n",
    "- genre missing 8 values, can google or can remove since it's only eight entries. Should not be significant to delete them. After reviewing the null entries, determined they would not add anything to the analysis.\n",
    "- director, missing 199 entries, as we go through the data will see how important that is\n",
    "- writer, missing 449 entries\n",
    "- theater_date, missing 359 entries, does not seem very important. But maybe seasonality or holidays do play a role\n",
    "- dvd_date, missing 359 entries as well. Would not qualify it as important as premiere date.\n",
    "- currency, missing 1210 entries. Can assume all in dollars, but need to look at values.\n",
    "- box-office, missing 1210 entries as well. This will make it very difficult to run analytics by genre type. Need to dig into the nulls\n",
    "- runtime, missing 20 entries\n",
    "-  studio, missing 1066 entries\n",
    "- I don't have any move titles...."
   ]
  },
  {
   "cell_type": "markdown",
   "metadata": {},
   "source": [
    "# Cleaning the RT dataframe\n",
    "- Should condense genre, to a category | subcategory\n",
    "- Should turn the dates to date value\n",
    "- Should turn the box office number into an int or float\n",
    "- Should standardize runtime into mins\n",
    "- Will remove entries without synopsis as we won't be able to source movie title, and double checked that they do not have box office numbers either."
   ]
  },
  {
   "cell_type": "code",
   "execution_count": 31,
   "metadata": {},
   "outputs": [],
   "source": [
    "# Cleaning up the box office numbers from str to int\n",
    "Rt['box_office'] = Rt['box_office'].str.replace(',','')\n",
    "\n",
    "# Cleaning up the theater and dvd dates to datetime format.\n",
    "Rt['theater_date'] = pd.to_datetime(Rt['theater_date'])\n",
    "Rt['dvd_date'] = pd.to_datetime(Rt['dvd_date'])"
   ]
  },
  {
   "cell_type": "markdown",
   "metadata": {},
   "source": [
    "# Findings on data exploration\n",
    "Was going to remove the null synopsis entries, and try to match the movie titles in the\n",
    "budgets CSV titles to the movie title in the synopsis string. Every synopsis mentions the title of the movie they're talking about at least once. The problem with trying to return the movie title string if it's in the synopsis is that for a single word or number movie title, it would return the wrong movie title. Example being 'her', the word her appears a myriad of times through a multitude of synopsis, which would lead to incorrect movie titles being assigned.\n",
    "\n",
    "Rt = Rt.dropna(subset=['synopsis'])"
   ]
  },
  {
   "cell_type": "code",
   "execution_count": 32,
   "metadata": {},
   "outputs": [],
   "source": [
    "\"\"\"\n",
    "Decided to pivot from trying to join this dataframe with budgets, and now we are going to \n",
    "standardize the 'genre' format in order to produce an analysis based on 'genre' and 'fresh'\n",
    "rating. Going to limit the 'genre' column to just the first two that currently show in 'genre'.\n",
    "This will lower the unique genre's from 299 to 78.\n",
    "\n",
    "We want to find out if there's a skew for certain genres, although more popular movies\n",
    "in any genre will always skew a genre due to the number of ratings.\n",
    "\"\"\"\n",
    "def genre_condenser(genre):\n",
    "    new_genre = genre.split(sep='|')\n",
    "    try:\n",
    "        if 'Classics' in new_genre:\n",
    "            new_genre.remove('Classics')\n",
    "            new_genre = f'{new_genre[0]}|{new_genre[1]}'\n",
    "            return new_genre\n",
    "        else:\n",
    "            new_genre = f'{new_genre[0]}|{new_genre[1]}'\n",
    "            return new_genre\n",
    "    except:\n",
    "        new_genre = f'{new_genre[0]}'\n",
    "        return new_genre\n",
    "\n",
    "#Dropping the Nan values associated with genre.\n",
    "Rt = Rt.dropna(subset = ['genre'])\n",
    "Rt['genre'] = Rt['genre'].map(genre_condenser)"
   ]
  },
  {
   "cell_type": "markdown",
   "metadata": {},
   "source": [
    "# 2.5 Loading in the RT Reviews\n",
    "- When at least 60% of reviews for a movie or TV show are positive, a red tomato is displayed to indicate its Fresh status.\n",
    "\n",
    "- When less than 60% of reviews for a movie or TV show are positive, a green splat is displayed to indicate its Rotten status.\n",
    "\n",
    "https://www.rottentomatoes.com/about"
   ]
  },
  {
   "cell_type": "code",
   "execution_count": 33,
   "metadata": {},
   "outputs": [
    {
     "name": "stdout",
     "output_type": "stream",
     "text": [
      "<class 'pandas.core.frame.DataFrame'>\n",
      "RangeIndex: 54432 entries, 0 to 54431\n",
      "Data columns (total 8 columns):\n",
      " #   Column      Non-Null Count  Dtype \n",
      "---  ------      --------------  ----- \n",
      " 0   id          54432 non-null  int64 \n",
      " 1   review      48869 non-null  object\n",
      " 2   rating      40915 non-null  object\n",
      " 3   fresh       54432 non-null  object\n",
      " 4   critic      51710 non-null  object\n",
      " 5   top_critic  54432 non-null  int64 \n",
      " 6   publisher   54123 non-null  object\n",
      " 7   date        54432 non-null  object\n",
      "dtypes: int64(2), object(6)\n",
      "memory usage: 3.3+ MB\n"
     ]
    },
    {
     "data": {
      "text/plain": [
       "id                0\n",
       "review         5563\n",
       "rating        13517\n",
       "fresh             0\n",
       "critic         2722\n",
       "top_critic        0\n",
       "publisher       309\n",
       "date              0\n",
       "dtype: int64"
      ]
     },
     "execution_count": 33,
     "metadata": {},
     "output_type": "execute_result"
    }
   ],
   "source": [
    "Rt_Reviews = pd.read_csv('Data/rt.reviews.tsv',delimiter='\\t',encoding='cp850')\n",
    "Rt_Reviews.info()\n",
    "Rt_Reviews.isna().sum()"
   ]
  },
  {
   "cell_type": "markdown",
   "metadata": {},
   "source": [
    "# Missing values\n",
    "- review         5563\n",
    "- rating        13517\n",
    "- critic         2722\n",
    "- publisher       309\n",
    "- No missing values for 'fresh', which let's us fully exlpore our 'fresh' to 'genre'\n",
    "    analysis."
   ]
  },
  {
   "cell_type": "code",
   "execution_count": 34,
   "metadata": {},
   "outputs": [
    {
     "data": {
      "text/plain": [
       "782     338\n",
       "1067    275\n",
       "1525    262\n",
       "1777    260\n",
       "1083    260\n",
       "       ... \n",
       "28        1\n",
       "102       1\n",
       "348       1\n",
       "476       1\n",
       "1727      1\n",
       "Name: id, Length: 1135, dtype: int64"
      ]
     },
     "execution_count": 34,
     "metadata": {},
     "output_type": "execute_result"
    }
   ],
   "source": [
    "#It appears that there are only 1135 unique movies according to the unique id count.\n",
    "#So we have 425 less unique movies to compare. Total movies in the RT movie info is 1560.\n",
    "Rt_Reviews['id'].value_counts()"
   ]
  },
  {
   "cell_type": "code",
   "execution_count": 35,
   "metadata": {},
   "outputs": [],
   "source": [
    "# In order to join, need to change the rating label col name for one of them.\n",
    "# Upon joining it looks like we have five less genres. 78 to 73.\n",
    "Rt_Reviews.rename(columns={'rating':'mov_rating'}, inplace=True)\n",
    "Rt_id_left_join = Rt_Reviews.join(Rt.set_index(['id']), on=['id'])"
   ]
  },
  {
   "cell_type": "markdown",
   "metadata": {},
   "source": [
    "# 3. Loading in and cleaning tmdb.movies"
   ]
  },
  {
   "cell_type": "code",
   "execution_count": 36,
   "metadata": {},
   "outputs": [],
   "source": [
    "tmdb = pd.read_csv('Data/tmdb.movies.csv')"
   ]
  },
  {
   "cell_type": "code",
   "execution_count": 37,
   "metadata": {},
   "outputs": [
    {
     "name": "stdout",
     "output_type": "stream",
     "text": [
      "<class 'pandas.core.frame.DataFrame'>\n",
      "RangeIndex: 26517 entries, 0 to 26516\n",
      "Data columns (total 9 columns):\n",
      " #   Column             Non-Null Count  Dtype  \n",
      "---  ------             --------------  -----  \n",
      " 0   genre_ids          26517 non-null  object \n",
      " 1   id                 26517 non-null  int64  \n",
      " 2   original_language  26517 non-null  object \n",
      " 3   original_title     26517 non-null  object \n",
      " 4   popularity         26517 non-null  float64\n",
      " 5   release_date       26517 non-null  object \n",
      " 6   title              26517 non-null  object \n",
      " 7   vote_average       26517 non-null  float64\n",
      " 8   vote_count         26517 non-null  int64  \n",
      "dtypes: float64(2), int64(2), object(5)\n",
      "memory usage: 1.8+ MB\n"
     ]
    }
   ],
   "source": [
    "#Dropping Unnamed: 0\n",
    "#No missing values\n",
    "tmdb.drop(columns=['Unnamed: 0'],inplace=True)\n",
    "tmdb.info()"
   ]
  },
  {
   "cell_type": "code",
   "execution_count": 38,
   "metadata": {},
   "outputs": [
    {
     "data": {
      "text/plain": [
       "[99]                          3700\n",
       "[18]                          2268\n",
       "[35]                          1660\n",
       "[27]                          1145\n",
       "[53]                           480\n",
       "                              ... \n",
       "[18, 36, 27, 53]                 1\n",
       "[18, 35, 10749, 10751, 14]       1\n",
       "[80, 28, 53, 36]                 1\n",
       "[37, 28, 14, 27, 18]             1\n",
       "[16, 18, 10752, 10751]           1\n",
       "Name: genre_ids, Length: 2476, dtype: int64"
      ]
     },
     "execution_count": 38,
     "metadata": {},
     "output_type": "execute_result"
    }
   ],
   "source": [
    "#Getting rid of the empty genre_id entries, around 2000 entries eliminated from this. Have\n",
    "#around 1000 genres, will deal with this below by creating a fucntion to map out the dataframe.\n",
    "tmdb = tmdb.loc[tmdb['genre_ids'] != '[]']\n",
    "tmdb['genre_ids'].value_counts()"
   ]
  },
  {
   "cell_type": "code",
   "execution_count": 39,
   "metadata": {},
   "outputs": [],
   "source": [
    "#TMDB genre ID tags https://www.themoviedb.org/talk/5daf6eb0ae36680011d7e6ee\n",
    "#Created a dictionary, based on the id values found on the website!\n",
    "tmdb_genres= {\"28\":\"Action\",\n",
    "            \"12\":\"Adventure\",\n",
    "            \"16\":\"Animation\",\n",
    "            \"35\":\"Comedy\",\n",
    "            \"80\":\"Crime\",\n",
    "            \"99\":\"Documentary\",\n",
    "            \"18\":\"Drama\",\n",
    "            \"10751\":\"Family\",\n",
    "            \"14\":\"Fantasy\",\n",
    "            \"36\":\"History\",\n",
    "            \"27\":\"Horror\",\n",
    "            \"10402\":\"Music\",\n",
    "            \"9648\":\"Mystery\",\n",
    "            \"10749\":\"Romance\",\n",
    "            \"878\":\"Science Fiction\",\n",
    "            \"10770\":\"TV Movie\",\n",
    "            \"53\":\"Thriller\",\n",
    "            \"10752\":\"War\",\n",
    "            \"37\":\"Western\"}"
   ]
  },
  {
   "cell_type": "code",
   "execution_count": 40,
   "metadata": {},
   "outputs": [],
   "source": [
    "\"\"\"\n",
    "Have around 1000 types of genres, in order to give a recommendation based on genres, will\n",
    "need to cap the genre's per id. Tried capping it to three, but still gave us 595 unique genres.\n",
    "Decided to cap it to two, which brings it down to 164 which is paletable for an analysis.\n",
    "\n",
    "The function below takes in the str, which is a list of genre ids, and converts it to a\n",
    "list of genre ids . Then once we have the list of ids it checks each id through the tmdb genre list\n",
    "and adds the genre name to a blank list. If the genre name is already there then it will not\n",
    "add it to the list again. The function then checks if the list of genre names is at two, and\n",
    "if so it returns the string version of the genre name list.\n",
    "\n",
    "Tested to make sure that genre names weren't coming out as double unique identifiers, ie\n",
    "'Drama'|'Comedy' and 'Comedy'|'Drama'.\n",
    "\n",
    "\"\"\"\n",
    "\n",
    "def genre_id_conv(genre_list):\n",
    "    genre_list = genre_list.replace('[','').replace(']','').split(sep=',')\n",
    "    genre_name = []\n",
    "    for key,val in tmdb_genres.items():\n",
    "        for genre_id in genre_list:\n",
    "            if key in genre_id:\n",
    "                if val not in genre_name and len(genre_name) < 2:\n",
    "                    genre_name.append(val)\n",
    "    return str(genre_name)\n",
    "\n",
    "tmdb['genre_names'] = tmdb['genre_ids'].map(genre_id_conv)"
   ]
  },
  {
   "cell_type": "code",
   "execution_count": 41,
   "metadata": {
    "scrolled": true
   },
   "outputs": [
    {
     "data": {
      "text/html": [
       "<div>\n",
       "<style scoped>\n",
       "    .dataframe tbody tr th:only-of-type {\n",
       "        vertical-align: middle;\n",
       "    }\n",
       "\n",
       "    .dataframe tbody tr th {\n",
       "        vertical-align: top;\n",
       "    }\n",
       "\n",
       "    .dataframe thead th {\n",
       "        text-align: right;\n",
       "    }\n",
       "</style>\n",
       "<table border=\"1\" class=\"dataframe\">\n",
       "  <thead>\n",
       "    <tr style=\"text-align: right;\">\n",
       "      <th></th>\n",
       "      <th>id</th>\n",
       "      <th>popularity</th>\n",
       "      <th>vote_average</th>\n",
       "      <th>vote_count</th>\n",
       "    </tr>\n",
       "  </thead>\n",
       "  <tbody>\n",
       "    <tr>\n",
       "      <th>count</th>\n",
       "      <td>24038.000000</td>\n",
       "      <td>24038.000000</td>\n",
       "      <td>24038.000000</td>\n",
       "      <td>24038.000000</td>\n",
       "    </tr>\n",
       "    <tr>\n",
       "      <th>mean</th>\n",
       "      <td>292504.549671</td>\n",
       "      <td>3.375461</td>\n",
       "      <td>5.984208</td>\n",
       "      <td>214.047259</td>\n",
       "    </tr>\n",
       "    <tr>\n",
       "      <th>std</th>\n",
       "      <td>155419.517895</td>\n",
       "      <td>4.501957</td>\n",
       "      <td>1.780916</td>\n",
       "      <td>1007.213853</td>\n",
       "    </tr>\n",
       "    <tr>\n",
       "      <th>min</th>\n",
       "      <td>27.000000</td>\n",
       "      <td>0.600000</td>\n",
       "      <td>0.000000</td>\n",
       "      <td>1.000000</td>\n",
       "    </tr>\n",
       "    <tr>\n",
       "      <th>25%</th>\n",
       "      <td>148607.250000</td>\n",
       "      <td>0.635000</td>\n",
       "      <td>5.000000</td>\n",
       "      <td>2.000000</td>\n",
       "    </tr>\n",
       "    <tr>\n",
       "      <th>50%</th>\n",
       "      <td>307170.000000</td>\n",
       "      <td>1.494000</td>\n",
       "      <td>6.000000</td>\n",
       "      <td>6.000000</td>\n",
       "    </tr>\n",
       "    <tr>\n",
       "      <th>75%</th>\n",
       "      <td>419629.250000</td>\n",
       "      <td>4.424000</td>\n",
       "      <td>7.000000</td>\n",
       "      <td>34.000000</td>\n",
       "    </tr>\n",
       "    <tr>\n",
       "      <th>max</th>\n",
       "      <td>608079.000000</td>\n",
       "      <td>80.773000</td>\n",
       "      <td>10.000000</td>\n",
       "      <td>22186.000000</td>\n",
       "    </tr>\n",
       "  </tbody>\n",
       "</table>\n",
       "</div>"
      ],
      "text/plain": [
       "                  id    popularity  vote_average    vote_count\n",
       "count   24038.000000  24038.000000  24038.000000  24038.000000\n",
       "mean   292504.549671      3.375461      5.984208    214.047259\n",
       "std    155419.517895      4.501957      1.780916   1007.213853\n",
       "min        27.000000      0.600000      0.000000      1.000000\n",
       "25%    148607.250000      0.635000      5.000000      2.000000\n",
       "50%    307170.000000      1.494000      6.000000      6.000000\n",
       "75%    419629.250000      4.424000      7.000000     34.000000\n",
       "max    608079.000000     80.773000     10.000000  22186.000000"
      ]
     },
     "execution_count": 41,
     "metadata": {},
     "output_type": "execute_result"
    }
   ],
   "source": [
    "tmdb.describe()"
   ]
  },
  {
   "cell_type": "code",
   "execution_count": null,
   "metadata": {},
   "outputs": [],
   "source": []
  }
 ],
 "metadata": {
  "kernelspec": {
   "display_name": "Python (learn-env)",
   "language": "python",
   "name": "learn-env"
  },
  "language_info": {
   "codemirror_mode": {
    "name": "ipython",
    "version": 3
   },
   "file_extension": ".py",
   "mimetype": "text/x-python",
   "name": "python",
   "nbconvert_exporter": "python",
   "pygments_lexer": "ipython3",
   "version": "3.8.5"
  }
 },
 "nbformat": 4,
 "nbformat_minor": 4
}
