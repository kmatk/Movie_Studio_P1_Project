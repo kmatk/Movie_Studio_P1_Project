{
 "cells": [
  {
   "cell_type": "code",
   "execution_count": 124,
   "metadata": {},
   "outputs": [],
   "source": [
    "import pandas as pd\n",
    "import numpy as np"
   ]
  },
  {
   "cell_type": "markdown",
   "metadata": {},
   "source": [
    "# General Questions to self.\n",
    "- Should we writing/saving the clean versions to new csvs and etc? Confer with Kevin post cleaning?\n",
    "- Could we potentially create a column with the genres, so as to be able to get gross/genre?"
   ]
  },
  {
   "cell_type": "markdown",
   "metadata": {},
   "source": [
    "# 1. Loading and cleaning Bom gross"
   ]
  },
  {
   "cell_type": "code",
   "execution_count": 48,
   "metadata": {},
   "outputs": [],
   "source": [
    "Bom = pd.read_csv(\"Data/bom.movie_gross.csv\")"
   ]
  },
  {
   "cell_type": "code",
   "execution_count": 49,
   "metadata": {},
   "outputs": [
    {
     "name": "stdout",
     "output_type": "stream",
     "text": [
      "<class 'pandas.core.frame.DataFrame'>\n",
      "RangeIndex: 3387 entries, 0 to 3386\n",
      "Data columns (total 5 columns):\n",
      " #   Column          Non-Null Count  Dtype  \n",
      "---  ------          --------------  -----  \n",
      " 0   title           3387 non-null   object \n",
      " 1   studio          3382 non-null   object \n",
      " 2   domestic_gross  3359 non-null   float64\n",
      " 3   foreign_gross   2037 non-null   object \n",
      " 4   year            3387 non-null   int64  \n",
      "dtypes: float64(1), int64(1), object(3)\n",
      "memory usage: 132.4+ KB\n"
     ]
    }
   ],
   "source": [
    "Bom.head()\n",
    "Bom.info()"
   ]
  },
  {
   "cell_type": "markdown",
   "metadata": {},
   "source": [
    "# Comments on missing values for BOM Movie Gross\n",
    "\n",
    "- 5 missing values in studio (will most likely remove, since they're only 5 out of 3387)\n",
    "    - one of the movies in the missing studio did do $100m+ in gross, so could be a big gross to pull out from the foreign category\n",
    "- 28 missing values in domestic gross (turn to 0)\n",
    "- 1350 missing values in foreign gross (turn to 0)"
   ]
  },
  {
   "cell_type": "code",
   "execution_count": 50,
   "metadata": {},
   "outputs": [
    {
     "name": "stdout",
     "output_type": "stream",
     "text": [
      "<class 'pandas.core.frame.DataFrame'>\n",
      "RangeIndex: 3387 entries, 0 to 3386\n",
      "Data columns (total 5 columns):\n",
      " #   Column          Non-Null Count  Dtype  \n",
      "---  ------          --------------  -----  \n",
      " 0   title           3387 non-null   object \n",
      " 1   studio          3382 non-null   object \n",
      " 2   domestic_gross  3359 non-null   float64\n",
      " 3   foreign_gross   3387 non-null   float64\n",
      " 4   year            3387 non-null   int64  \n",
      "dtypes: float64(2), int64(1), object(2)\n",
      "memory usage: 132.4+ KB\n"
     ]
    }
   ],
   "source": [
    "# Foreign gross is a str, will have to convert that to a float. First, I need to replace all\n",
    "# null's with 0. This will be to denote that they didn't have any foreign gross.\n",
    "# Could do a geographical based analysis??\n",
    "Bom.loc[Bom['foreign_gross'].isna()]\n",
    "Bom['foreign_gross'] = Bom['foreign_gross'].str.replace(',','')\n",
    "Bom['foreign_gross'] = Bom['foreign_gross'].astype(float)\n",
    "Bom['foreign_gross'] = Bom['foreign_gross'].fillna(0)\n",
    "#One of them has a comma, will have to strip that first.\n",
    "Bom.info()"
   ]
  },
  {
   "cell_type": "code",
   "execution_count": 52,
   "metadata": {},
   "outputs": [
    {
     "name": "stdout",
     "output_type": "stream",
     "text": [
      "<class 'pandas.core.frame.DataFrame'>\n",
      "RangeIndex: 3387 entries, 0 to 3386\n",
      "Data columns (total 5 columns):\n",
      " #   Column          Non-Null Count  Dtype  \n",
      "---  ------          --------------  -----  \n",
      " 0   title           3387 non-null   object \n",
      " 1   studio          3382 non-null   object \n",
      " 2   domestic_gross  3387 non-null   float64\n",
      " 3   foreign_gross   3387 non-null   float64\n",
      " 4   year            3387 non-null   int64  \n",
      "dtypes: float64(2), int64(1), object(2)\n",
      "memory usage: 132.4+ KB\n"
     ]
    }
   ],
   "source": [
    "#Domestic gross has some missing values as well, will first inspect. Upon confirming that\n",
    "#they're just foreign films, then I'll replace thos nulls with 0.\n",
    "Bom.loc[Bom['domestic_gross'].isna()]\n",
    "Bom['domestic_gross'] = Bom['domestic_gross'].fillna(0)\n",
    "Bom.info()"
   ]
  },
  {
   "cell_type": "code",
   "execution_count": 54,
   "metadata": {},
   "outputs": [],
   "source": [
    "# Will create a new column, total_gross, to be able to compare the aggregate gross.\n",
    "Bom['total_gross'] = Bom['domestic_gross'] + Bom['foreign_gross']"
   ]
  },
  {
   "cell_type": "code",
   "execution_count": 58,
   "metadata": {},
   "outputs": [
    {
     "data": {
      "text/plain": [
       "title             0\n",
       "studio            0\n",
       "domestic_gross    0\n",
       "foreign_gross     0\n",
       "year              0\n",
       "total_gross       0\n",
       "dtype: int64"
      ]
     },
     "execution_count": 58,
     "metadata": {},
     "output_type": "execute_result"
    }
   ],
   "source": [
    "# Going to inspect the movies that have null studio values, since it's only 5 going to see\n",
    "# if I can replace them from just looking them up. Decided on just dropping the 5 movies,\n",
    "# due to it being sucha small percentage of the overall data set.\n",
    "Bom.loc[Bom['studio'].isna()]\n",
    "Clean_Bom = Bom.dropna(subset = ['studio'])\n",
    "Clean_Bom.isna().sum()"
   ]
  },
  {
   "cell_type": "markdown",
   "metadata": {},
   "source": [
    "# 2. Loading in and cleaning RT movie info\n"
   ]
  },
  {
   "cell_type": "code",
   "execution_count": 158,
   "metadata": {},
   "outputs": [],
   "source": [
    "Rt = pd.read_csv('Data/rt.movie_info.tsv',sep = '\\t')"
   ]
  },
  {
   "cell_type": "code",
   "execution_count": 159,
   "metadata": {},
   "outputs": [
    {
     "name": "stdout",
     "output_type": "stream",
     "text": [
      "<class 'pandas.core.frame.DataFrame'>\n",
      "RangeIndex: 1560 entries, 0 to 1559\n",
      "Data columns (total 12 columns):\n",
      " #   Column        Non-Null Count  Dtype \n",
      "---  ------        --------------  ----- \n",
      " 0   id            1560 non-null   int64 \n",
      " 1   synopsis      1498 non-null   object\n",
      " 2   rating        1557 non-null   object\n",
      " 3   genre         1552 non-null   object\n",
      " 4   director      1361 non-null   object\n",
      " 5   writer        1111 non-null   object\n",
      " 6   theater_date  1201 non-null   object\n",
      " 7   dvd_date      1201 non-null   object\n",
      " 8   currency      340 non-null    object\n",
      " 9   box_office    340 non-null    object\n",
      " 10  runtime       1530 non-null   object\n",
      " 11  studio        494 non-null    object\n",
      "dtypes: int64(1), object(11)\n",
      "memory usage: 146.4+ KB\n"
     ]
    }
   ],
   "source": [
    "Rt.head()\n",
    "#Rt.isna().sum()\n",
    "Rt.info()"
   ]
  },
  {
   "cell_type": "markdown",
   "metadata": {},
   "source": [
    "# Missing data comments\n",
    "- synopsis, only missing 62 entries\n",
    "- rating missing 3 entries. After review of the rows, they will not add anything to the analysis, so we'll remove them.\n",
    "- genre missing 8 values, can google or can remove since it's only eight entries. Should not be significant to delete them. After reviewing the null entries, determined they would not add anything to the analysis.\n",
    "- director, missing 199 entries, as we go through the data will see how important that is\n",
    "- writer, missing 449 entries\n",
    "- theater_date, missing 359 entries, does not seem very important. But maybe seasonality or holidays do play a role\n",
    "- dvd_date, missing 359 entries as well. Would not qualify it as important as premiere date.\n",
    "- currency, missing 1210 entries. Can assume all in dollars, but need to look at values.\n",
    "- box-office, missing 1210 entries as well. This will make it very difficult to run analytics by genre type. Need to dig into the nulls\n",
    "- runtime, missing 20 entries\n",
    "-  studio, missing 1066 entries\n",
    "- I don't have any move titles...."
   ]
  },
  {
   "cell_type": "markdown",
   "metadata": {},
   "source": [
    "# Now to clean the new dataframe\n",
    "- Should condense genre\n",
    "- Should turn the dates to date value\n",
    "- Should turn the box office number into an int or float\n",
    "- should standardize runtime into mins"
   ]
  },
  {
   "cell_type": "code",
   "execution_count": 167,
   "metadata": {},
   "outputs": [],
   "source": [
    "# Cleaning up the box office numbers from str to int\n",
    "Rt['box_office'] = Rt['box_office'].str.replace(',','')"
   ]
  },
  {
   "cell_type": "code",
   "execution_count": 164,
   "metadata": {},
   "outputs": [],
   "source": [
    "# Cleaning up the theater and dvd dates to datetime format, could potentially add a column\n",
    "# extracting the month val. Can see if there are any specific months that are better for movies.\n",
    "Rt['theater_date'] = pd.to_datetime(Rt['theater_date'])\n",
    "Rt['dvd_date'] = pd.to_datetime(Rt['dvd_date'])"
   ]
  },
  {
   "cell_type": "code",
   "execution_count": 172,
   "metadata": {},
   "outputs": [
    {
     "data": {
      "text/plain": [
       "Drama                                               151\n",
       "Comedy                                              110\n",
       "Comedy|Drama                                         80\n",
       "Drama|Mystery and Suspense                           67\n",
       "Art House and International|Drama                    62\n",
       "Action and Adventure|Drama                           42\n",
       "Action and Adventure|Drama|Mystery and Suspense      40\n",
       "Drama|Romance                                        35\n",
       "Comedy|Romance                                       32\n",
       "Horror                                               31\n",
       "Art House and International|Comedy|Drama             31\n",
       "Action and Adventure|Science Fiction and Fantasy     24\n",
       "Comedy|Drama|Romance                                 23\n",
       "Classics|Drama                                       21\n",
       "Action and Adventure|Mystery and Suspense            20\n",
       "Action and Adventure                                 19\n",
       "Classics|Drama|Mystery and Suspense                  18\n",
       "Horror|Mystery and Suspense                          17\n",
       "Documentary|Special Interest                         14\n",
       "Drama|Musical and Performing Arts                    14\n",
       "Name: genre, dtype: int64"
      ]
     },
     "execution_count": 172,
     "metadata": {},
     "output_type": "execute_result"
    }
   ],
   "source": [
    "# To condense genres, could just have first genre title as the genre type. Think on it.\n",
    "#Rt['genre'].value_counts().head(20)"
   ]
  },
  {
   "cell_type": "code",
   "execution_count": 175,
   "metadata": {},
   "outputs": [
    {
     "name": "stderr",
     "output_type": "stream",
     "text": [
      "<ipython-input-175-660678bb1818>:7: SettingWithCopyWarning: \n",
      "A value is trying to be set on a copy of a slice from a DataFrame.\n",
      "Try using .loc[row_indexer,col_indexer] = value instead\n",
      "\n",
      "See the caveats in the documentation: https://pandas.pydata.org/pandas-docs/stable/user_guide/indexing.html#returning-a-view-versus-a-copy\n",
      "  Clean_Rt_Box['box_office'] = Clean_Rt_Box['box_office'].astype(int)\n"
     ]
    }
   ],
   "source": [
    "# Creating a separate dataframe to clean it up. Guessing that we'll have separate clean\n",
    "# versions. Clean only genre, clean only box office.\n",
    "\n",
    "# Clean_Rt_Box only has all the entries with non-null values for Box Office. Can analyze \n",
    "# Genre/Box Office.\n",
    "Clean_Rt_Box = Rt.dropna(subset=['box_office'])\n",
    "Clean_Rt_Box['box_office'] = Clean_Rt_Box['box_office'].astype(int)\n",
    "\n"
   ]
  },
  {
   "cell_type": "code",
   "execution_count": 185,
   "metadata": {},
   "outputs": [
    {
     "name": "stderr",
     "output_type": "stream",
     "text": [
      "<ipython-input-185-dbbb1b1569b0>:1: SettingWithCopyWarning: \n",
      "A value is trying to be set on a copy of a slice from a DataFrame.\n",
      "Try using .loc[row_indexer,col_indexer] = value instead\n",
      "\n",
      "See the caveats in the documentation: https://pandas.pydata.org/pandas-docs/stable/user_guide/indexing.html#returning-a-view-versus-a-copy\n",
      "  Clean_Rt_Box['runtime'] = Clean_Rt_Box['runtime'].str.replace(\"minutes\",'').str.strip()\n"
     ]
    }
   ],
   "source": [
    "Clean_Rt_Box['runtime'] = Clean_Rt_Box['runtime'].str.replace(\"minutes\",'').str.strip()\n",
    "# for 499 and "
   ]
  },
  {
   "cell_type": "code",
   "execution_count": null,
   "metadata": {},
   "outputs": [],
   "source": [
    "# Will create another dataframe below and remove all null directors. Can run analysis on director/\n",
    "# box office.\n",
    "#Clean_Rt_Director = Clean_Rt_Box.dropna(subset = ['director'])\n",
    "# load budgets and see what movie titles are there, then run iteratively through the list"
   ]
  }
 ],
 "metadata": {
  "kernelspec": {
   "display_name": "Python (learn-env)",
   "language": "python",
   "name": "learn-env"
  },
  "language_info": {
   "codemirror_mode": {
    "name": "ipython",
    "version": 3
   },
   "file_extension": ".py",
   "mimetype": "text/x-python",
   "name": "python",
   "nbconvert_exporter": "python",
   "pygments_lexer": "ipython3",
   "version": "3.8.5"
  }
 },
 "nbformat": 4,
 "nbformat_minor": 4
}
